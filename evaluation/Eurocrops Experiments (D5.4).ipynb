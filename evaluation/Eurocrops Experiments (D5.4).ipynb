{
 "cells": [
  {
   "cell_type": "markdown",
   "id": "28f2547f",
   "metadata": {},
   "source": [
    "\n",
    "\n",
    "<div align=\"center\">\n",
    "<img align=\"center\" src=\"https://stelar-project.eu/wp-content/uploads/2022/08/cropped-stelar-sq.png?raw=true\" alt=\"pyJedAI\" width=\"250\"/>\n",
    "\n",
    "<strong>Deduplication Use Case</strong>\n",
    "</div>\n",
    "<div align=\"center\">\n",
    "<img align=\"center\" src=\"https://github.com/AI-team-UoA/.github/blob/main/AI_LOGO-1.png?raw=true\" alt=\"pyJedAI\" width=\"160\"/>\n",
    "<img align=\"center\" src=\"https://agroknow.com/wp-content/uploads/2020/04/logo_agroknow_sm.png?raw=true\" alt=\"pyJedAI\" width=\"160\"/>\n",
    "<img align=\"center\" src=\"https://github.com/Nikoletos-K/pyJedAI/blob/main/docs/img/pyjedai.logo.drawio.png?raw=true\" alt=\"pyJedAI\" width=\"250\"/>\n",
    "</div>\n",
    "\n",
    "---"
   ]
  },
  {
   "cell_type": "markdown",
   "id": "780ef397",
   "metadata": {},
   "source": [
    "# Initialize data and pyJedAI\n",
    "Execute cell to initialize application and read the data."
   ]
  },
  {
   "cell_type": "code",
   "execution_count": 1,
   "id": "9fab77b0",
   "metadata": {},
   "outputs": [],
   "source": [
    "# %pip install pyjedai\n",
    "# %pip install valentine"
   ]
  },
  {
   "cell_type": "code",
   "execution_count": 2,
   "id": "8d491721",
   "metadata": {},
   "outputs": [],
   "source": [
    "import pandas as pd\n",
    "import json\n",
    "def load_only_schema(file_path: str, filename: str):\n",
    "       \n",
    "    source_filename = f'{file_path}/{filename}_dbf.csv'\n",
    "    target_filename = f'{file_path}/{filename}.csv'\n",
    "    gtruth_filename = f'{file_path}/{filename}.json'\n",
    "        \n",
    "        \n",
    "    df_source_tmp = pd.read_csv(source_filename).astype(str)\n",
    "    df_target_tmp = pd.read_csv(target_filename).astype(str)\n",
    "    \n",
    "\n",
    "    source_schema = df_source_tmp.columns.tolist()\n",
    "    df_source = pd.DataFrame(columns=source_schema)\n",
    "    df_source.loc[0] = source_schema\n",
    "    df_source = df_source.dropna(axis=1)\n",
    "\n",
    "    target_schema = df_target_tmp.columns.tolist()\n",
    "    df_target = pd.DataFrame(columns=target_schema)\n",
    "    df_target.loc[0] = target_schema\n",
    "    df_target = df_target.dropna(axis=1)\n",
    "\n",
    "    with open(gtruth_filename, 'r') as f:\n",
    "        gtruth_data = json.load(f)\n",
    "\n",
    "    ground_truth = []\n",
    "\n",
    "    for pair in gtruth_data['matches']:\n",
    "        ground_truth.append((pair['source_column'], pair['target_column']))\n",
    "    return df_source, df_target, ground_truth"
   ]
  },
  {
   "cell_type": "markdown",
   "id": "3c69bd72",
   "metadata": {},
   "source": [
    "# Expeimental Results on Eurocrops"
   ]
  },
  {
   "cell_type": "code",
   "execution_count": 3,
   "id": "d1ecdac1",
   "metadata": {},
   "outputs": [
    {
     "name": "stderr",
     "output_type": "stream",
     "text": [
      "/home/conda/miniconda3/envs/valentine2/lib/python3.9/site-packages/pyjedai/joins.py:13: TqdmWarning: IProgress not found. Please update jupyter and ipywidgets. See https://ipywidgets.readthedocs.io/en/stable/user_install.html\n",
      "  from tqdm.autonotebook import tqdm\n"
     ]
    },
    {
     "data": {
      "text/html": [
       "<div>\n",
       "<style scoped>\n",
       "    .dataframe tbody tr th:only-of-type {\n",
       "        vertical-align: middle;\n",
       "    }\n",
       "\n",
       "    .dataframe tbody tr th {\n",
       "        vertical-align: top;\n",
       "    }\n",
       "\n",
       "    .dataframe thead th {\n",
       "        text-align: right;\n",
       "    }\n",
       "</style>\n",
       "<table border=\"1\" class=\"dataframe\">\n",
       "  <thead>\n",
       "    <tr style=\"text-align: right;\">\n",
       "      <th></th>\n",
       "      <th>UNI: F1</th>\n",
       "      <th>UNI: params</th>\n",
       "      <th>K: F1</th>\n",
       "      <th>K: params</th>\n",
       "      <th>TopKJoin-UNI: F1</th>\n",
       "      <th>TopKJoin-UNI: params</th>\n",
       "      <th>TopKJoin-K: F1</th>\n",
       "      <th>TopKJoin-K: params</th>\n",
       "      <th>EJoin-UNI: F1</th>\n",
       "      <th>EJoin-UNI: params</th>\n",
       "      <th>...</th>\n",
       "      <th>CO: parameters</th>\n",
       "      <th>DB: F1</th>\n",
       "      <th>DB: parameters</th>\n",
       "      <th>JDM: F1</th>\n",
       "      <th>JDM: parameters</th>\n",
       "      <th>SF: F1</th>\n",
       "      <th>SF: parameters</th>\n",
       "      <th>filename</th>\n",
       "      <th>dataset</th>\n",
       "      <th>dataset_type</th>\n",
       "    </tr>\n",
       "  </thead>\n",
       "  <tbody>\n",
       "    <tr>\n",
       "      <th>0</th>\n",
       "      <td>66.666667</td>\n",
       "      <td>{'language_model': 'st5', 'similarity': 0.1, '...</td>\n",
       "      <td>66.666667</td>\n",
       "      <td>{'language_model': 'st5', 'similarity': 0.1, '...</td>\n",
       "      <td>72.727273</td>\n",
       "      <td>{'metric': 'cosine', 'tokenization': 'qgrams',...</td>\n",
       "      <td>72.727273</td>\n",
       "      <td>{'metric': 'cosine', 'tokenization': 'qgrams',...</td>\n",
       "      <td>60.000000</td>\n",
       "      <td>{'metric': 'cosine', 'tokenization': 'qgrams',...</td>\n",
       "      <td>...</td>\n",
       "      <td>{'max_n': 100, 'use_instances': True, 'java_xm...</td>\n",
       "      <td>0.0</td>\n",
       "      <td>{'threshold1': 0.75, 'threshold2': 0.75, 'proc...</td>\n",
       "      <td>9.523810</td>\n",
       "      <td>{'threshold_dist': 0.15, 'process_num': 25}</td>\n",
       "      <td>14.285714</td>\n",
       "      <td>{'coeff_policy': 'inverse_average', 'formula':...</td>\n",
       "      <td>RO</td>\n",
       "      <td>eurocrops</td>\n",
       "      <td>joinable</td>\n",
       "    </tr>\n",
       "    <tr>\n",
       "      <th>1</th>\n",
       "      <td>66.666667</td>\n",
       "      <td>{'language_model': 'st5', 'similarity': 0.1, '...</td>\n",
       "      <td>66.666667</td>\n",
       "      <td>{'language_model': 'st5', 'similarity': 0.1, '...</td>\n",
       "      <td>72.727273</td>\n",
       "      <td>{'metric': 'cosine', 'tokenization': 'qgrams',...</td>\n",
       "      <td>72.727273</td>\n",
       "      <td>{'metric': 'cosine', 'tokenization': 'qgrams',...</td>\n",
       "      <td>72.727273</td>\n",
       "      <td>{'metric': 'cosine', 'tokenization': 'qgrams',...</td>\n",
       "      <td>...</td>\n",
       "      <td>{'max_n': 100, 'use_instances': True, 'java_xm...</td>\n",
       "      <td>0.0</td>\n",
       "      <td>{'threshold1': 0.75, 'threshold2': 0.75, 'proc...</td>\n",
       "      <td>7.692308</td>\n",
       "      <td>{'threshold_dist': 0.15, 'process_num': 25}</td>\n",
       "      <td>14.285714</td>\n",
       "      <td>{'coeff_policy': 'inverse_average', 'formula':...</td>\n",
       "      <td>AT</td>\n",
       "      <td>eurocrops</td>\n",
       "      <td>joinable</td>\n",
       "    </tr>\n",
       "    <tr>\n",
       "      <th>2</th>\n",
       "      <td>54.545455</td>\n",
       "      <td>{'language_model': 'sdistilroberta', 'similari...</td>\n",
       "      <td>54.545455</td>\n",
       "      <td>{'language_model': 'sdistilroberta', 'similari...</td>\n",
       "      <td>54.545455</td>\n",
       "      <td>{'metric': 'cosine', 'tokenization': 'qgrams',...</td>\n",
       "      <td>54.545455</td>\n",
       "      <td>{'metric': 'cosine', 'tokenization': 'qgrams',...</td>\n",
       "      <td>54.545455</td>\n",
       "      <td>{'metric': 'cosine', 'tokenization': 'qgrams',...</td>\n",
       "      <td>...</td>\n",
       "      <td>{'max_n': 100, 'use_instances': True, 'java_xm...</td>\n",
       "      <td>0.0</td>\n",
       "      <td>{'threshold1': 0.75, 'threshold2': 0.75, 'proc...</td>\n",
       "      <td>4.597701</td>\n",
       "      <td>{'threshold_dist': 0.15, 'process_num': 20}</td>\n",
       "      <td>0.000000</td>\n",
       "      <td>{'coeff_policy': 'inverse_average', 'formula':...</td>\n",
       "      <td>HR</td>\n",
       "      <td>eurocrops</td>\n",
       "      <td>joinable</td>\n",
       "    </tr>\n",
       "    <tr>\n",
       "      <th>3</th>\n",
       "      <td>72.727273</td>\n",
       "      <td>{'language_model': 'sdistilroberta', 'similari...</td>\n",
       "      <td>72.727273</td>\n",
       "      <td>{'language_model': 'sdistilroberta', 'similari...</td>\n",
       "      <td>80.000000</td>\n",
       "      <td>{'metric': 'cosine', 'tokenization': 'qgrams',...</td>\n",
       "      <td>80.000000</td>\n",
       "      <td>{'metric': 'cosine', 'tokenization': 'qgrams',...</td>\n",
       "      <td>60.000000</td>\n",
       "      <td>{'metric': 'cosine', 'tokenization': 'qgrams',...</td>\n",
       "      <td>...</td>\n",
       "      <td>{'max_n': 100, 'use_instances': True, 'java_xm...</td>\n",
       "      <td>0.0</td>\n",
       "      <td>{'threshold1': 0.75, 'threshold2': 0.75, 'proc...</td>\n",
       "      <td>12.500000</td>\n",
       "      <td>{'threshold_dist': 0.15, 'process_num': 20}</td>\n",
       "      <td>15.384615</td>\n",
       "      <td>{'coeff_policy': 'inverse_average', 'formula':...</td>\n",
       "      <td>FR</td>\n",
       "      <td>eurocrops</td>\n",
       "      <td>joinable</td>\n",
       "    </tr>\n",
       "    <tr>\n",
       "      <th>4</th>\n",
       "      <td>66.666667</td>\n",
       "      <td>{'language_model': 'st5', 'similarity': 0.1, '...</td>\n",
       "      <td>66.666667</td>\n",
       "      <td>{'language_model': 'st5', 'similarity': 0.1, '...</td>\n",
       "      <td>66.666667</td>\n",
       "      <td>{'metric': 'cosine', 'tokenization': 'qgrams',...</td>\n",
       "      <td>66.666667</td>\n",
       "      <td>{'metric': 'cosine', 'tokenization': 'qgrams',...</td>\n",
       "      <td>66.666667</td>\n",
       "      <td>{'metric': 'cosine', 'tokenization': 'qgrams',...</td>\n",
       "      <td>...</td>\n",
       "      <td>{'max_n': 100, 'use_instances': True, 'java_xm...</td>\n",
       "      <td>0.0</td>\n",
       "      <td>{'threshold1': 0.75, 'threshold2': 0.75, 'proc...</td>\n",
       "      <td>10.000000</td>\n",
       "      <td>{'threshold_dist': 0.15, 'process_num': 20}</td>\n",
       "      <td>16.666667</td>\n",
       "      <td>{'coeff_policy': 'inverse_average', 'formula':...</td>\n",
       "      <td>LT</td>\n",
       "      <td>eurocrops</td>\n",
       "      <td>joinable</td>\n",
       "    </tr>\n",
       "    <tr>\n",
       "      <th>5</th>\n",
       "      <td>60.000000</td>\n",
       "      <td>{'language_model': 'st5', 'similarity': 0.1, '...</td>\n",
       "      <td>72.727273</td>\n",
       "      <td>{'language_model': 'st5', 'similarity': 0.1, '...</td>\n",
       "      <td>60.000000</td>\n",
       "      <td>{'metric': 'cosine', 'tokenization': 'qgrams',...</td>\n",
       "      <td>60.000000</td>\n",
       "      <td>{'metric': 'cosine', 'tokenization': 'qgrams',...</td>\n",
       "      <td>60.000000</td>\n",
       "      <td>{'metric': 'cosine', 'tokenization': 'qgrams',...</td>\n",
       "      <td>...</td>\n",
       "      <td>{'max_n': 100, 'use_instances': True, 'java_xm...</td>\n",
       "      <td>0.0</td>\n",
       "      <td>{'threshold1': 0.75, 'threshold2': 0.75, 'proc...</td>\n",
       "      <td>11.764706</td>\n",
       "      <td>{'threshold_dist': 0.15, 'process_num': 25}</td>\n",
       "      <td>14.285714</td>\n",
       "      <td>{'coeff_policy': 'inverse_average', 'formula':...</td>\n",
       "      <td>SI</td>\n",
       "      <td>eurocrops</td>\n",
       "      <td>joinable</td>\n",
       "    </tr>\n",
       "    <tr>\n",
       "      <th>6</th>\n",
       "      <td>66.666667</td>\n",
       "      <td>{'language_model': 'sdistilroberta', 'similari...</td>\n",
       "      <td>66.666667</td>\n",
       "      <td>{'language_model': 'sdistilroberta', 'similari...</td>\n",
       "      <td>40.000000</td>\n",
       "      <td>{'metric': 'cosine', 'tokenization': 'qgrams',...</td>\n",
       "      <td>40.000000</td>\n",
       "      <td>{'metric': 'cosine', 'tokenization': 'qgrams',...</td>\n",
       "      <td>36.363636</td>\n",
       "      <td>{'metric': 'cosine', 'tokenization': 'qgrams',...</td>\n",
       "      <td>...</td>\n",
       "      <td>{'max_n': 100, 'use_instances': True, 'java_xm...</td>\n",
       "      <td>0.0</td>\n",
       "      <td>{'threshold1': 0.75, 'threshold2': 0.75, 'proc...</td>\n",
       "      <td>22.222222</td>\n",
       "      <td>{'threshold_dist': 0.25, 'process_num': 20}</td>\n",
       "      <td>14.285714</td>\n",
       "      <td>{'coeff_policy': 'inverse_average', 'formula':...</td>\n",
       "      <td>DE_NRW</td>\n",
       "      <td>eurocrops</td>\n",
       "      <td>joinable</td>\n",
       "    </tr>\n",
       "    <tr>\n",
       "      <th>7</th>\n",
       "      <td>60.000000</td>\n",
       "      <td>{'language_model': 'st5', 'similarity': 0.1, '...</td>\n",
       "      <td>60.000000</td>\n",
       "      <td>{'language_model': 'st5', 'similarity': 0.1, '...</td>\n",
       "      <td>60.000000</td>\n",
       "      <td>{'metric': 'cosine', 'tokenization': 'qgrams',...</td>\n",
       "      <td>60.000000</td>\n",
       "      <td>{'metric': 'cosine', 'tokenization': 'qgrams',...</td>\n",
       "      <td>60.000000</td>\n",
       "      <td>{'metric': 'cosine', 'tokenization': 'qgrams',...</td>\n",
       "      <td>...</td>\n",
       "      <td>{'max_n': 100, 'use_instances': True, 'java_xm...</td>\n",
       "      <td>0.0</td>\n",
       "      <td>{'threshold1': 0.75, 'threshold2': 0.75, 'proc...</td>\n",
       "      <td>9.523810</td>\n",
       "      <td>{'threshold_dist': 0.15, 'process_num': 20}</td>\n",
       "      <td>14.285714</td>\n",
       "      <td>{'coeff_policy': 'inverse_average', 'formula':...</td>\n",
       "      <td>ES_NA</td>\n",
       "      <td>eurocrops</td>\n",
       "      <td>joinable</td>\n",
       "    </tr>\n",
       "    <tr>\n",
       "      <th>8</th>\n",
       "      <td>72.727273</td>\n",
       "      <td>{'language_model': 'st5', 'similarity': 0.1, '...</td>\n",
       "      <td>60.000000</td>\n",
       "      <td>{'language_model': 'st5', 'similarity': 0.1, '...</td>\n",
       "      <td>60.000000</td>\n",
       "      <td>{'metric': 'cosine', 'tokenization': 'qgrams',...</td>\n",
       "      <td>60.000000</td>\n",
       "      <td>{'metric': 'cosine', 'tokenization': 'qgrams',...</td>\n",
       "      <td>60.000000</td>\n",
       "      <td>{'metric': 'cosine', 'tokenization': 'qgrams',...</td>\n",
       "      <td>...</td>\n",
       "      <td>{'max_n': 100, 'use_instances': True, 'java_xm...</td>\n",
       "      <td>0.0</td>\n",
       "      <td>{'threshold1': 0.75, 'threshold2': 0.75, 'proc...</td>\n",
       "      <td>6.250000</td>\n",
       "      <td>{'threshold_dist': 0.15, 'process_num': 25}</td>\n",
       "      <td>0.000000</td>\n",
       "      <td>{'coeff_policy': 'inverse_average', 'formula':...</td>\n",
       "      <td>EE</td>\n",
       "      <td>eurocrops</td>\n",
       "      <td>joinable</td>\n",
       "    </tr>\n",
       "    <tr>\n",
       "      <th>9</th>\n",
       "      <td>66.666667</td>\n",
       "      <td>{'language_model': 'st5', 'similarity': 0.1, '...</td>\n",
       "      <td>66.666667</td>\n",
       "      <td>{'language_model': 'st5', 'similarity': 0.1, '...</td>\n",
       "      <td>80.000000</td>\n",
       "      <td>{'metric': 'cosine', 'tokenization': 'qgrams',...</td>\n",
       "      <td>80.000000</td>\n",
       "      <td>{'metric': 'cosine', 'tokenization': 'qgrams',...</td>\n",
       "      <td>80.000000</td>\n",
       "      <td>{'metric': 'cosine', 'tokenization': 'qgrams',...</td>\n",
       "      <td>...</td>\n",
       "      <td>{'max_n': 100, 'use_instances': True, 'java_xm...</td>\n",
       "      <td>0.0</td>\n",
       "      <td>{'threshold1': 0.75, 'threshold2': 0.75, 'proc...</td>\n",
       "      <td>19.047619</td>\n",
       "      <td>{'threshold_dist': 0.15, 'process_num': 25}</td>\n",
       "      <td>0.000000</td>\n",
       "      <td>{'coeff_policy': 'inverse_average', 'formula':...</td>\n",
       "      <td>SK</td>\n",
       "      <td>eurocrops</td>\n",
       "      <td>joinable</td>\n",
       "    </tr>\n",
       "    <tr>\n",
       "      <th>10</th>\n",
       "      <td>72.727273</td>\n",
       "      <td>{'language_model': 'st5', 'similarity': 0.1, '...</td>\n",
       "      <td>72.727273</td>\n",
       "      <td>{'language_model': 'st5', 'similarity': 0.1, '...</td>\n",
       "      <td>72.727273</td>\n",
       "      <td>{'metric': 'cosine', 'tokenization': 'qgrams',...</td>\n",
       "      <td>72.727273</td>\n",
       "      <td>{'metric': 'cosine', 'tokenization': 'qgrams',...</td>\n",
       "      <td>60.000000</td>\n",
       "      <td>{'metric': 'cosine', 'tokenization': 'qgrams',...</td>\n",
       "      <td>...</td>\n",
       "      <td>{'max_n': 100, 'use_instances': True, 'java_xm...</td>\n",
       "      <td>0.0</td>\n",
       "      <td>{'threshold1': 0.75, 'threshold2': 0.75, 'proc...</td>\n",
       "      <td>25.000000</td>\n",
       "      <td>{'threshold_dist': 0.45, 'process_num': 25}</td>\n",
       "      <td>18.181818</td>\n",
       "      <td>{'coeff_policy': 'inverse_average', 'formula':...</td>\n",
       "      <td>NL</td>\n",
       "      <td>eurocrops</td>\n",
       "      <td>joinable</td>\n",
       "    </tr>\n",
       "    <tr>\n",
       "      <th>11</th>\n",
       "      <td>54.545455</td>\n",
       "      <td>{'language_model': 'st5', 'similarity': 0.1, '...</td>\n",
       "      <td>54.545455</td>\n",
       "      <td>{'language_model': 'st5', 'similarity': 0.1, '...</td>\n",
       "      <td>72.727273</td>\n",
       "      <td>{'metric': 'cosine', 'tokenization': 'qgrams',...</td>\n",
       "      <td>72.727273</td>\n",
       "      <td>{'metric': 'cosine', 'tokenization': 'qgrams',...</td>\n",
       "      <td>72.727273</td>\n",
       "      <td>{'metric': 'cosine', 'tokenization': 'qgrams',...</td>\n",
       "      <td>...</td>\n",
       "      <td>{'max_n': 100, 'use_instances': True, 'java_xm...</td>\n",
       "      <td>0.0</td>\n",
       "      <td>{'threshold1': 0.75, 'threshold2': 0.75, 'proc...</td>\n",
       "      <td>22.222222</td>\n",
       "      <td>{'threshold_dist': 0.25, 'process_num': 25}</td>\n",
       "      <td>14.285714</td>\n",
       "      <td>{'coeff_policy': 'inverse_average', 'formula':...</td>\n",
       "      <td>SE</td>\n",
       "      <td>eurocrops</td>\n",
       "      <td>joinable</td>\n",
       "    </tr>\n",
       "    <tr>\n",
       "      <th>12</th>\n",
       "      <td>72.727273</td>\n",
       "      <td>{'language_model': 'st5', 'similarity': 0.1, '...</td>\n",
       "      <td>72.727273</td>\n",
       "      <td>{'language_model': 'st5', 'similarity': 0.1, '...</td>\n",
       "      <td>66.666667</td>\n",
       "      <td>{'metric': 'cosine', 'tokenization': 'qgrams',...</td>\n",
       "      <td>66.666667</td>\n",
       "      <td>{'metric': 'cosine', 'tokenization': 'qgrams',...</td>\n",
       "      <td>60.000000</td>\n",
       "      <td>{'metric': 'cosine', 'tokenization': 'qgrams',...</td>\n",
       "      <td>...</td>\n",
       "      <td>{'max_n': 100, 'use_instances': True, 'java_xm...</td>\n",
       "      <td>0.0</td>\n",
       "      <td>{'threshold1': 0.75, 'threshold2': 0.75, 'proc...</td>\n",
       "      <td>11.764706</td>\n",
       "      <td>{'threshold_dist': 0.15, 'process_num': 20}</td>\n",
       "      <td>14.285714</td>\n",
       "      <td>{'coeff_policy': 'inverse_average', 'formula':...</td>\n",
       "      <td>DK</td>\n",
       "      <td>eurocrops</td>\n",
       "      <td>joinable</td>\n",
       "    </tr>\n",
       "    <tr>\n",
       "      <th>13</th>\n",
       "      <td>83.333333</td>\n",
       "      <td>{'language_model': 'st5', 'similarity': 0.1, '...</td>\n",
       "      <td>83.333333</td>\n",
       "      <td>{'language_model': 'st5', 'similarity': 0.1, '...</td>\n",
       "      <td>83.333333</td>\n",
       "      <td>{'metric': 'cosine', 'tokenization': 'qgrams',...</td>\n",
       "      <td>83.333333</td>\n",
       "      <td>{'metric': 'cosine', 'tokenization': 'qgrams',...</td>\n",
       "      <td>66.666667</td>\n",
       "      <td>{'metric': 'cosine', 'tokenization': 'qgrams',...</td>\n",
       "      <td>...</td>\n",
       "      <td>{'max_n': 100, 'use_instances': True, 'java_xm...</td>\n",
       "      <td>0.0</td>\n",
       "      <td>{'threshold1': 0.75, 'threshold2': 0.75, 'proc...</td>\n",
       "      <td>20.000000</td>\n",
       "      <td>{'threshold_dist': 0.15, 'process_num': 20}</td>\n",
       "      <td>18.181818</td>\n",
       "      <td>{'coeff_policy': 'inverse_average', 'formula':...</td>\n",
       "      <td>DE_LS</td>\n",
       "      <td>eurocrops</td>\n",
       "      <td>joinable</td>\n",
       "    </tr>\n",
       "    <tr>\n",
       "      <th>14</th>\n",
       "      <td>66.666667</td>\n",
       "      <td>{'language_model': 'st5', 'similarity': 0.1, '...</td>\n",
       "      <td>54.545455</td>\n",
       "      <td>{'language_model': 'st5', 'similarity': 0.1, '...</td>\n",
       "      <td>83.333333</td>\n",
       "      <td>{'metric': 'cosine', 'tokenization': 'qgrams',...</td>\n",
       "      <td>83.333333</td>\n",
       "      <td>{'metric': 'cosine', 'tokenization': 'qgrams',...</td>\n",
       "      <td>71.428571</td>\n",
       "      <td>{'metric': 'cosine', 'tokenization': 'qgrams',...</td>\n",
       "      <td>...</td>\n",
       "      <td>{'max_n': 100, 'use_instances': True, 'java_xm...</td>\n",
       "      <td>0.0</td>\n",
       "      <td>{'threshold1': 0.75, 'threshold2': 0.75, 'proc...</td>\n",
       "      <td>9.090909</td>\n",
       "      <td>{'threshold_dist': 0.15, 'process_num': 20}</td>\n",
       "      <td>14.285714</td>\n",
       "      <td>{'coeff_policy': 'inverse_average', 'formula':...</td>\n",
       "      <td>PT</td>\n",
       "      <td>eurocrops</td>\n",
       "      <td>joinable</td>\n",
       "    </tr>\n",
       "    <tr>\n",
       "      <th>15</th>\n",
       "      <td>66.666667</td>\n",
       "      <td>{'language_model': 'st5', 'similarity': 0.1, '...</td>\n",
       "      <td>66.666667</td>\n",
       "      <td>{'language_model': 'st5', 'similarity': 0.1, '...</td>\n",
       "      <td>54.545455</td>\n",
       "      <td>{'metric': 'cosine', 'tokenization': 'qgrams',...</td>\n",
       "      <td>54.545455</td>\n",
       "      <td>{'metric': 'cosine', 'tokenization': 'qgrams',...</td>\n",
       "      <td>54.545455</td>\n",
       "      <td>{'metric': 'cosine', 'tokenization': 'qgrams',...</td>\n",
       "      <td>...</td>\n",
       "      <td>{'max_n': 100, 'use_instances': True, 'java_xm...</td>\n",
       "      <td>0.0</td>\n",
       "      <td>{'threshold1': 0.75, 'threshold2': 0.75, 'proc...</td>\n",
       "      <td>9.523810</td>\n",
       "      <td>{'threshold_dist': 0.15, 'process_num': 20}</td>\n",
       "      <td>14.285714</td>\n",
       "      <td>{'coeff_policy': 'inverse_average', 'formula':...</td>\n",
       "      <td>LV</td>\n",
       "      <td>eurocrops</td>\n",
       "      <td>joinable</td>\n",
       "    </tr>\n",
       "    <tr>\n",
       "      <th>16</th>\n",
       "      <td>54.545455</td>\n",
       "      <td>{'language_model': 'sdistilroberta', 'similari...</td>\n",
       "      <td>54.545455</td>\n",
       "      <td>{'language_model': 'sdistilroberta', 'similari...</td>\n",
       "      <td>60.000000</td>\n",
       "      <td>{'metric': 'cosine', 'tokenization': 'qgrams',...</td>\n",
       "      <td>60.000000</td>\n",
       "      <td>{'metric': 'cosine', 'tokenization': 'qgrams',...</td>\n",
       "      <td>57.142857</td>\n",
       "      <td>{'metric': 'cosine', 'tokenization': 'qgrams',...</td>\n",
       "      <td>...</td>\n",
       "      <td>{'max_n': 100, 'use_instances': True, 'java_xm...</td>\n",
       "      <td>0.0</td>\n",
       "      <td>{'threshold1': 0.75, 'threshold2': 0.75, 'proc...</td>\n",
       "      <td>5.882353</td>\n",
       "      <td>{'threshold_dist': 0.15, 'process_num': 20}</td>\n",
       "      <td>14.285714</td>\n",
       "      <td>{'coeff_policy': 'inverse_average', 'formula':...</td>\n",
       "      <td>BE</td>\n",
       "      <td>eurocrops</td>\n",
       "      <td>joinable</td>\n",
       "    </tr>\n",
       "  </tbody>\n",
       "</table>\n",
       "<p>17 rows × 35 columns</p>\n",
       "</div>"
      ],
      "text/plain": [
       "      UNI: F1                                        UNI: params      K: F1  \\\n",
       "0   66.666667  {'language_model': 'st5', 'similarity': 0.1, '...  66.666667   \n",
       "1   66.666667  {'language_model': 'st5', 'similarity': 0.1, '...  66.666667   \n",
       "2   54.545455  {'language_model': 'sdistilroberta', 'similari...  54.545455   \n",
       "3   72.727273  {'language_model': 'sdistilroberta', 'similari...  72.727273   \n",
       "4   66.666667  {'language_model': 'st5', 'similarity': 0.1, '...  66.666667   \n",
       "5   60.000000  {'language_model': 'st5', 'similarity': 0.1, '...  72.727273   \n",
       "6   66.666667  {'language_model': 'sdistilroberta', 'similari...  66.666667   \n",
       "7   60.000000  {'language_model': 'st5', 'similarity': 0.1, '...  60.000000   \n",
       "8   72.727273  {'language_model': 'st5', 'similarity': 0.1, '...  60.000000   \n",
       "9   66.666667  {'language_model': 'st5', 'similarity': 0.1, '...  66.666667   \n",
       "10  72.727273  {'language_model': 'st5', 'similarity': 0.1, '...  72.727273   \n",
       "11  54.545455  {'language_model': 'st5', 'similarity': 0.1, '...  54.545455   \n",
       "12  72.727273  {'language_model': 'st5', 'similarity': 0.1, '...  72.727273   \n",
       "13  83.333333  {'language_model': 'st5', 'similarity': 0.1, '...  83.333333   \n",
       "14  66.666667  {'language_model': 'st5', 'similarity': 0.1, '...  54.545455   \n",
       "15  66.666667  {'language_model': 'st5', 'similarity': 0.1, '...  66.666667   \n",
       "16  54.545455  {'language_model': 'sdistilroberta', 'similari...  54.545455   \n",
       "\n",
       "                                            K: params  TopKJoin-UNI: F1  \\\n",
       "0   {'language_model': 'st5', 'similarity': 0.1, '...         72.727273   \n",
       "1   {'language_model': 'st5', 'similarity': 0.1, '...         72.727273   \n",
       "2   {'language_model': 'sdistilroberta', 'similari...         54.545455   \n",
       "3   {'language_model': 'sdistilroberta', 'similari...         80.000000   \n",
       "4   {'language_model': 'st5', 'similarity': 0.1, '...         66.666667   \n",
       "5   {'language_model': 'st5', 'similarity': 0.1, '...         60.000000   \n",
       "6   {'language_model': 'sdistilroberta', 'similari...         40.000000   \n",
       "7   {'language_model': 'st5', 'similarity': 0.1, '...         60.000000   \n",
       "8   {'language_model': 'st5', 'similarity': 0.1, '...         60.000000   \n",
       "9   {'language_model': 'st5', 'similarity': 0.1, '...         80.000000   \n",
       "10  {'language_model': 'st5', 'similarity': 0.1, '...         72.727273   \n",
       "11  {'language_model': 'st5', 'similarity': 0.1, '...         72.727273   \n",
       "12  {'language_model': 'st5', 'similarity': 0.1, '...         66.666667   \n",
       "13  {'language_model': 'st5', 'similarity': 0.1, '...         83.333333   \n",
       "14  {'language_model': 'st5', 'similarity': 0.1, '...         83.333333   \n",
       "15  {'language_model': 'st5', 'similarity': 0.1, '...         54.545455   \n",
       "16  {'language_model': 'sdistilroberta', 'similari...         60.000000   \n",
       "\n",
       "                                 TopKJoin-UNI: params  TopKJoin-K: F1  \\\n",
       "0   {'metric': 'cosine', 'tokenization': 'qgrams',...       72.727273   \n",
       "1   {'metric': 'cosine', 'tokenization': 'qgrams',...       72.727273   \n",
       "2   {'metric': 'cosine', 'tokenization': 'qgrams',...       54.545455   \n",
       "3   {'metric': 'cosine', 'tokenization': 'qgrams',...       80.000000   \n",
       "4   {'metric': 'cosine', 'tokenization': 'qgrams',...       66.666667   \n",
       "5   {'metric': 'cosine', 'tokenization': 'qgrams',...       60.000000   \n",
       "6   {'metric': 'cosine', 'tokenization': 'qgrams',...       40.000000   \n",
       "7   {'metric': 'cosine', 'tokenization': 'qgrams',...       60.000000   \n",
       "8   {'metric': 'cosine', 'tokenization': 'qgrams',...       60.000000   \n",
       "9   {'metric': 'cosine', 'tokenization': 'qgrams',...       80.000000   \n",
       "10  {'metric': 'cosine', 'tokenization': 'qgrams',...       72.727273   \n",
       "11  {'metric': 'cosine', 'tokenization': 'qgrams',...       72.727273   \n",
       "12  {'metric': 'cosine', 'tokenization': 'qgrams',...       66.666667   \n",
       "13  {'metric': 'cosine', 'tokenization': 'qgrams',...       83.333333   \n",
       "14  {'metric': 'cosine', 'tokenization': 'qgrams',...       83.333333   \n",
       "15  {'metric': 'cosine', 'tokenization': 'qgrams',...       54.545455   \n",
       "16  {'metric': 'cosine', 'tokenization': 'qgrams',...       60.000000   \n",
       "\n",
       "                                   TopKJoin-K: params  EJoin-UNI: F1  \\\n",
       "0   {'metric': 'cosine', 'tokenization': 'qgrams',...      60.000000   \n",
       "1   {'metric': 'cosine', 'tokenization': 'qgrams',...      72.727273   \n",
       "2   {'metric': 'cosine', 'tokenization': 'qgrams',...      54.545455   \n",
       "3   {'metric': 'cosine', 'tokenization': 'qgrams',...      60.000000   \n",
       "4   {'metric': 'cosine', 'tokenization': 'qgrams',...      66.666667   \n",
       "5   {'metric': 'cosine', 'tokenization': 'qgrams',...      60.000000   \n",
       "6   {'metric': 'cosine', 'tokenization': 'qgrams',...      36.363636   \n",
       "7   {'metric': 'cosine', 'tokenization': 'qgrams',...      60.000000   \n",
       "8   {'metric': 'cosine', 'tokenization': 'qgrams',...      60.000000   \n",
       "9   {'metric': 'cosine', 'tokenization': 'qgrams',...      80.000000   \n",
       "10  {'metric': 'cosine', 'tokenization': 'qgrams',...      60.000000   \n",
       "11  {'metric': 'cosine', 'tokenization': 'qgrams',...      72.727273   \n",
       "12  {'metric': 'cosine', 'tokenization': 'qgrams',...      60.000000   \n",
       "13  {'metric': 'cosine', 'tokenization': 'qgrams',...      66.666667   \n",
       "14  {'metric': 'cosine', 'tokenization': 'qgrams',...      71.428571   \n",
       "15  {'metric': 'cosine', 'tokenization': 'qgrams',...      54.545455   \n",
       "16  {'metric': 'cosine', 'tokenization': 'qgrams',...      57.142857   \n",
       "\n",
       "                                    EJoin-UNI: params  ...  \\\n",
       "0   {'metric': 'cosine', 'tokenization': 'qgrams',...  ...   \n",
       "1   {'metric': 'cosine', 'tokenization': 'qgrams',...  ...   \n",
       "2   {'metric': 'cosine', 'tokenization': 'qgrams',...  ...   \n",
       "3   {'metric': 'cosine', 'tokenization': 'qgrams',...  ...   \n",
       "4   {'metric': 'cosine', 'tokenization': 'qgrams',...  ...   \n",
       "5   {'metric': 'cosine', 'tokenization': 'qgrams',...  ...   \n",
       "6   {'metric': 'cosine', 'tokenization': 'qgrams',...  ...   \n",
       "7   {'metric': 'cosine', 'tokenization': 'qgrams',...  ...   \n",
       "8   {'metric': 'cosine', 'tokenization': 'qgrams',...  ...   \n",
       "9   {'metric': 'cosine', 'tokenization': 'qgrams',...  ...   \n",
       "10  {'metric': 'cosine', 'tokenization': 'qgrams',...  ...   \n",
       "11  {'metric': 'cosine', 'tokenization': 'qgrams',...  ...   \n",
       "12  {'metric': 'cosine', 'tokenization': 'qgrams',...  ...   \n",
       "13  {'metric': 'cosine', 'tokenization': 'qgrams',...  ...   \n",
       "14  {'metric': 'cosine', 'tokenization': 'qgrams',...  ...   \n",
       "15  {'metric': 'cosine', 'tokenization': 'qgrams',...  ...   \n",
       "16  {'metric': 'cosine', 'tokenization': 'qgrams',...  ...   \n",
       "\n",
       "                                       CO: parameters DB: F1  \\\n",
       "0   {'max_n': 100, 'use_instances': True, 'java_xm...    0.0   \n",
       "1   {'max_n': 100, 'use_instances': True, 'java_xm...    0.0   \n",
       "2   {'max_n': 100, 'use_instances': True, 'java_xm...    0.0   \n",
       "3   {'max_n': 100, 'use_instances': True, 'java_xm...    0.0   \n",
       "4   {'max_n': 100, 'use_instances': True, 'java_xm...    0.0   \n",
       "5   {'max_n': 100, 'use_instances': True, 'java_xm...    0.0   \n",
       "6   {'max_n': 100, 'use_instances': True, 'java_xm...    0.0   \n",
       "7   {'max_n': 100, 'use_instances': True, 'java_xm...    0.0   \n",
       "8   {'max_n': 100, 'use_instances': True, 'java_xm...    0.0   \n",
       "9   {'max_n': 100, 'use_instances': True, 'java_xm...    0.0   \n",
       "10  {'max_n': 100, 'use_instances': True, 'java_xm...    0.0   \n",
       "11  {'max_n': 100, 'use_instances': True, 'java_xm...    0.0   \n",
       "12  {'max_n': 100, 'use_instances': True, 'java_xm...    0.0   \n",
       "13  {'max_n': 100, 'use_instances': True, 'java_xm...    0.0   \n",
       "14  {'max_n': 100, 'use_instances': True, 'java_xm...    0.0   \n",
       "15  {'max_n': 100, 'use_instances': True, 'java_xm...    0.0   \n",
       "16  {'max_n': 100, 'use_instances': True, 'java_xm...    0.0   \n",
       "\n",
       "                                       DB: parameters    JDM: F1  \\\n",
       "0   {'threshold1': 0.75, 'threshold2': 0.75, 'proc...   9.523810   \n",
       "1   {'threshold1': 0.75, 'threshold2': 0.75, 'proc...   7.692308   \n",
       "2   {'threshold1': 0.75, 'threshold2': 0.75, 'proc...   4.597701   \n",
       "3   {'threshold1': 0.75, 'threshold2': 0.75, 'proc...  12.500000   \n",
       "4   {'threshold1': 0.75, 'threshold2': 0.75, 'proc...  10.000000   \n",
       "5   {'threshold1': 0.75, 'threshold2': 0.75, 'proc...  11.764706   \n",
       "6   {'threshold1': 0.75, 'threshold2': 0.75, 'proc...  22.222222   \n",
       "7   {'threshold1': 0.75, 'threshold2': 0.75, 'proc...   9.523810   \n",
       "8   {'threshold1': 0.75, 'threshold2': 0.75, 'proc...   6.250000   \n",
       "9   {'threshold1': 0.75, 'threshold2': 0.75, 'proc...  19.047619   \n",
       "10  {'threshold1': 0.75, 'threshold2': 0.75, 'proc...  25.000000   \n",
       "11  {'threshold1': 0.75, 'threshold2': 0.75, 'proc...  22.222222   \n",
       "12  {'threshold1': 0.75, 'threshold2': 0.75, 'proc...  11.764706   \n",
       "13  {'threshold1': 0.75, 'threshold2': 0.75, 'proc...  20.000000   \n",
       "14  {'threshold1': 0.75, 'threshold2': 0.75, 'proc...   9.090909   \n",
       "15  {'threshold1': 0.75, 'threshold2': 0.75, 'proc...   9.523810   \n",
       "16  {'threshold1': 0.75, 'threshold2': 0.75, 'proc...   5.882353   \n",
       "\n",
       "                                JDM: parameters     SF: F1  \\\n",
       "0   {'threshold_dist': 0.15, 'process_num': 25}  14.285714   \n",
       "1   {'threshold_dist': 0.15, 'process_num': 25}  14.285714   \n",
       "2   {'threshold_dist': 0.15, 'process_num': 20}   0.000000   \n",
       "3   {'threshold_dist': 0.15, 'process_num': 20}  15.384615   \n",
       "4   {'threshold_dist': 0.15, 'process_num': 20}  16.666667   \n",
       "5   {'threshold_dist': 0.15, 'process_num': 25}  14.285714   \n",
       "6   {'threshold_dist': 0.25, 'process_num': 20}  14.285714   \n",
       "7   {'threshold_dist': 0.15, 'process_num': 20}  14.285714   \n",
       "8   {'threshold_dist': 0.15, 'process_num': 25}   0.000000   \n",
       "9   {'threshold_dist': 0.15, 'process_num': 25}   0.000000   \n",
       "10  {'threshold_dist': 0.45, 'process_num': 25}  18.181818   \n",
       "11  {'threshold_dist': 0.25, 'process_num': 25}  14.285714   \n",
       "12  {'threshold_dist': 0.15, 'process_num': 20}  14.285714   \n",
       "13  {'threshold_dist': 0.15, 'process_num': 20}  18.181818   \n",
       "14  {'threshold_dist': 0.15, 'process_num': 20}  14.285714   \n",
       "15  {'threshold_dist': 0.15, 'process_num': 20}  14.285714   \n",
       "16  {'threshold_dist': 0.15, 'process_num': 20}  14.285714   \n",
       "\n",
       "                                       SF: parameters  filename    dataset  \\\n",
       "0   {'coeff_policy': 'inverse_average', 'formula':...        RO  eurocrops   \n",
       "1   {'coeff_policy': 'inverse_average', 'formula':...        AT  eurocrops   \n",
       "2   {'coeff_policy': 'inverse_average', 'formula':...        HR  eurocrops   \n",
       "3   {'coeff_policy': 'inverse_average', 'formula':...        FR  eurocrops   \n",
       "4   {'coeff_policy': 'inverse_average', 'formula':...        LT  eurocrops   \n",
       "5   {'coeff_policy': 'inverse_average', 'formula':...        SI  eurocrops   \n",
       "6   {'coeff_policy': 'inverse_average', 'formula':...    DE_NRW  eurocrops   \n",
       "7   {'coeff_policy': 'inverse_average', 'formula':...     ES_NA  eurocrops   \n",
       "8   {'coeff_policy': 'inverse_average', 'formula':...        EE  eurocrops   \n",
       "9   {'coeff_policy': 'inverse_average', 'formula':...        SK  eurocrops   \n",
       "10  {'coeff_policy': 'inverse_average', 'formula':...        NL  eurocrops   \n",
       "11  {'coeff_policy': 'inverse_average', 'formula':...        SE  eurocrops   \n",
       "12  {'coeff_policy': 'inverse_average', 'formula':...        DK  eurocrops   \n",
       "13  {'coeff_policy': 'inverse_average', 'formula':...     DE_LS  eurocrops   \n",
       "14  {'coeff_policy': 'inverse_average', 'formula':...        PT  eurocrops   \n",
       "15  {'coeff_policy': 'inverse_average', 'formula':...        LV  eurocrops   \n",
       "16  {'coeff_policy': 'inverse_average', 'formula':...        BE  eurocrops   \n",
       "\n",
       "   dataset_type  \n",
       "0      joinable  \n",
       "1      joinable  \n",
       "2      joinable  \n",
       "3      joinable  \n",
       "4      joinable  \n",
       "5      joinable  \n",
       "6      joinable  \n",
       "7      joinable  \n",
       "8      joinable  \n",
       "9      joinable  \n",
       "10     joinable  \n",
       "11     joinable  \n",
       "12     joinable  \n",
       "13     joinable  \n",
       "14     joinable  \n",
       "15     joinable  \n",
       "16     joinable  \n",
       "\n",
       "[17 rows x 35 columns]"
      ]
     },
     "execution_count": 3,
     "metadata": {},
     "output_type": "execute_result"
    }
   ],
   "source": [
    "import pandas as pd\n",
    "from pyjedai.schema.schema_model import Schema\n",
    "import ast\n",
    "from pyjedai.joins import TopKJoin\n",
    "from pyjedai.clustering import UniqueMappingClustering\n",
    "from valentine.algorithms import Coma, Cupid \n",
    "from valentine import valentine_match\n",
    "\n",
    "results_df = pd.read_csv(\"Final Results/Eurocrops/eurocrops_results_only_schema_with_re_pr.csv\")\n",
    "\n",
    "matchers = {\"CO\" : Coma, \"CU\": Cupid}\n",
    "\n",
    "\n",
    "syntactic_list  = [\"weigthing_scheme\", 'matching_tokenizer', \"matching_vectorizer\", \"matching_metric\"] \n",
    "\n",
    "prefix_columns = ['', 'TopKJoin-', 'EJoin-', 'syntactic-']\n",
    "cluster_list = ['UNI: ', 'K: ']\n",
    "suffix_list = ['F1', 'params']\n",
    "\n",
    "columns = []\n",
    "f1_columns = []\n",
    "for prefix in prefix_columns:\n",
    "    suffixes_list = suffix_list if prefix!='syntactic-' else suffix_list + syntactic_list\n",
    "    for cluster in cluster_list:\n",
    "        for suffix in suffixes_list:\n",
    "            if not (prefix == 'syntactic-' and suffix == 'params'): \n",
    "                columns.append(f'{prefix}{cluster}{suffix}')\n",
    "            if suffix == 'F1':\n",
    "                f1_columns.append(f'{prefix}{cluster}{suffix}')\n",
    "\n",
    "val_columns = []\n",
    "matcher_list = ['CU: ','CO: ','DB: ','JDM: ','SF: ']\n",
    "suffix_list.pop(1)\n",
    "suffix_list.append('parameters')\n",
    "for prefix in matcher_list:\n",
    "    for suffix in suffix_list:\n",
    "        columns.append(f'{prefix}{suffix}')\n",
    "        if suffix == 'F1':\n",
    "            val_columns.append(f'{prefix}{suffix}')\n",
    "\n",
    "\n",
    "columns += ['filename', 'dataset', 'dataset_type']\n",
    "\n",
    "\n",
    "\n",
    "# results_df = results_df.drop(not columns)\n",
    "\n",
    "results_df = results_df[columns]\n",
    "results_df"
   ]
  },
  {
   "cell_type": "code",
   "execution_count": 4,
   "id": "9671ae44",
   "metadata": {},
   "outputs": [],
   "source": [
    "f1_results = results_df[f1_columns]\n",
    "val_results = results_df[val_columns]\n",
    "\n",
    "\n",
    "max_values = f1_results.max(axis=1)\n",
    "max_columns = f1_results.idxmax(axis=1)\n",
    "\n",
    "VAL_max_values = val_results.max(axis=1)\n",
    "VAL_max_columns = val_results.idxmax(axis=1)\n",
    "\n",
    "max_columns = max_columns.tolist()\n",
    "max_columns = [mc.rstrip(': F1') for mc in max_columns]\n",
    "\n",
    "VAL_max_columns = VAL_max_columns.tolist()\n",
    "VAL_max_columns = [mc.rstrip(': F1') for mc in VAL_max_columns]\n",
    "\n",
    "\n",
    "countries_to_list = results_df[\"filename\"].tolist()\n",
    "\n",
    "di = {country: max_col for country, max_col in zip(countries_to_list, max_columns)}\n",
    "VAL_di = {country: max_col for country, max_col in zip(countries_to_list, VAL_max_columns)}\n",
    "\n",
    "f1_scores = []\n",
    "VAL_f1_scores = []\n",
    "\n",
    "runtime = []\n",
    "VAL_runtime = []\n"
   ]
  },
  {
   "cell_type": "markdown",
   "id": "5651d22c",
   "metadata": {},
   "source": [
    "## Eurocrops Dataset : RO\n",
    "\n"
   ]
  },
  {
   "cell_type": "markdown",
   "id": "844342de",
   "metadata": {},
   "source": [
    "### Syntactic Schema Clustering"
   ]
  },
  {
   "cell_type": "code",
   "execution_count": 5,
   "id": "56b3e304",
   "metadata": {},
   "outputs": [
    {
     "name": "stderr",
     "output_type": "stream",
     "text": [
      "/tmp/ipykernel_311223/1287023112.py:12: DtypeWarning: Columns (15,16) have mixed types. Specify dtype option on import or set low_memory=False.\n",
      "  d1 = pd.read_csv(dbf_name)\n",
      "Top-K Join (cosine): 31it [00:00, 17731.27it/s]           "
     ]
    },
    {
     "name": "stdout",
     "output_type": "stream",
     "text": [
      "***************************************************************************************************************************\n",
      "                                         Method:  Unique Mapping Clustering\n",
      "***************************************************************************************************************************\n",
      "Method name: Unique Mapping Clustering\n",
      "Parameters: \n",
      "\tSimilarity Threshold: 0.25\n",
      "Runtime: 0.0013 seconds\n",
      "───────────────────────────────────────────────────────────────────────────────────────────────────────────────────────────\n",
      "Performance:\n",
      "\tPrecision:    100.00% \n",
      "\tRecall:        57.14%\n",
      "\tF1-score:      72.73%\n",
      "───────────────────────────────────────────────────────────────────────────────────────────────────────────────────────────\n"
     ]
    },
    {
     "name": "stderr",
     "output_type": "stream",
     "text": [
      "\n"
     ]
    }
   ],
   "source": [
    "country = \"RO\"\n",
    "index = 0\n",
    "dbf_name = f\"data/eurocrops/{country}/{country}_dbf.csv\"\n",
    "file_name = f\"data/eurocrops/{country}/{country}.csv\"\n",
    "gtruth_filename = f\"data/eurocrops/{country}/{country}.json\"\n",
    "\n",
    "import json \n",
    "with open(gtruth_filename, 'r') as f:\n",
    "    gtruth_data = json.load(f)\n",
    "\n",
    "\n",
    "d1 = pd.read_csv(dbf_name)\n",
    "d2 = pd.read_csv(file_name)\n",
    "gt = pd.DataFrame(gtruth_data['matches'])\n",
    "\n",
    "schema = Schema(dataset_1=d1, dataset_2= d2, ground_truth=gt, matching_type=\"SCHEMA\")\n",
    "\n",
    "similarity = 0.25\n",
    "params = ast.literal_eval(results_df.iloc[index][f\"{di[country]}: params\"])\n",
    "\n",
    "join = TopKJoin(**params)\n",
    "graph = join.fit(schema)\n",
    "clustering = UniqueMappingClustering()\n",
    "clusters = clustering.process(graph, schema, similarity)\n",
    "ev = clustering.evaluate(clusters)\n",
    "\n",
    "f1_scores.append(ev['F1 %'])\n",
    "runtime.append(join.execution_time + clustering.execution_time)"
   ]
  },
  {
   "cell_type": "markdown",
   "id": "a394c460",
   "metadata": {},
   "source": [
    "### Schema Matching (Coma)"
   ]
  },
  {
   "cell_type": "code",
   "execution_count": 6,
   "id": "a5ebe422",
   "metadata": {},
   "outputs": [
    {
     "name": "stderr",
     "output_type": "stream",
     "text": [
      "/tmp/ipykernel_311223/120839540.py:10: DtypeWarning: Columns (15,16) have mixed types. Specify dtype option on import or set low_memory=False.\n",
      "  df_source_tmp = pd.read_csv(source_filename).astype(str)\n"
     ]
    },
    {
     "name": "stdout",
     "output_type": "stream",
     "text": [
      "\n",
      "Matcher: Coma\n",
      "Runtime: 1.2049877643585205 seconds\n",
      "Parameters: \t{'max_n': 100, 'use_instances': True, 'java_xmx': '10240m'}\n",
      "Performance:\n",
      "\tPrecision:\t50.00%\n",
      "\tRecall:\t\t28.57%\n",
      "\tF1-score:\t36.36%\n"
     ]
    }
   ],
   "source": [
    "import time\n",
    "\n",
    "country = \"RO\"\n",
    "index = 0\n",
    "file_path = f'data/eurocrops/{country}'\n",
    "df_source, df_target, ground_truth = load_only_schema(file_path, country)\n",
    "start_time = time.time()\n",
    "\n",
    "params = ast.literal_eval(results_df.iloc[index][f\"{VAL_di[country]}: parameters\"])\n",
    "\n",
    "\n",
    "\n",
    "matcher = matchers[VAL_di[country]](**params)\n",
    "\n",
    "matches = valentine_match(df_source, df_target, matcher)\n",
    "\n",
    "execution_time = time.time() - start_time \n",
    "\n",
    "\n",
    "metrics = matches.get_metrics(ground_truth)\n",
    "\n",
    "print(f\"\\nMatcher: {matchers[VAL_di[country]].__name__}\\n\\\n",
    "Runtime: {execution_time} seconds\\n\\\n",
    "Parameters: \\t{params}\\n\\\n",
    "Performance:\\n\\\n",
    "\\tPrecision:\\t{metrics['Precision']*100:.2f}%\\n\\\n",
    "\\tRecall:\\t\\t{metrics['Recall']*100:.2f}%\\n\\\n",
    "\\tF1-score:\\t{metrics['F1Score']*100:.2f}%\")\n",
    "\n",
    "del matcher\n",
    "\n",
    "VAL_f1_scores.append(metrics['F1Score']*100)\n",
    "VAL_runtime.append(execution_time)"
   ]
  },
  {
   "cell_type": "markdown",
   "id": "4f89e0e8",
   "metadata": {},
   "source": [
    "## Eurocrops Dataset : AT"
   ]
  },
  {
   "cell_type": "markdown",
   "id": "4e444c31",
   "metadata": {},
   "source": [
    "### Syntactic Schema Clustering"
   ]
  },
  {
   "cell_type": "code",
   "execution_count": 7,
   "id": "86b22914",
   "metadata": {},
   "outputs": [
    {
     "name": "stderr",
     "output_type": "stream",
     "text": [
      "Top-K Join (cosine): 25it [00:00, 17581.76it/s]           "
     ]
    },
    {
     "name": "stdout",
     "output_type": "stream",
     "text": [
      "***************************************************************************************************************************\n",
      "                                         Method:  Unique Mapping Clustering\n",
      "***************************************************************************************************************************\n",
      "Method name: Unique Mapping Clustering\n",
      "Parameters: \n",
      "\tSimilarity Threshold: 0.15\n",
      "Runtime: 0.0007 seconds\n",
      "───────────────────────────────────────────────────────────────────────────────────────────────────────────────────────────\n",
      "Performance:\n",
      "\tPrecision:    100.00% \n",
      "\tRecall:        57.14%\n",
      "\tF1-score:      72.73%\n",
      "───────────────────────────────────────────────────────────────────────────────────────────────────────────────────────────\n"
     ]
    },
    {
     "name": "stderr",
     "output_type": "stream",
     "text": [
      "\n"
     ]
    }
   ],
   "source": [
    "country = \"AT\"\n",
    "index = 1\n",
    "dbf_name = f\"data/eurocrops/{country}/{country}_dbf.csv\"\n",
    "file_name = f\"data/eurocrops/{country}/{country}.csv\"\n",
    "gtruth_filename = f\"data/eurocrops/{country}/{country}.json\"\n",
    "params = ast.literal_eval(results_df.iloc[index][f\"{di[country]}: params\"])\n",
    "\n",
    "import json \n",
    "with open(gtruth_filename, 'r') as f:\n",
    "    gtruth_data = json.load(f)\n",
    "\n",
    "d1 = pd.read_csv(dbf_name)\n",
    "d2 = pd.read_csv(file_name)\n",
    "gt = pd.DataFrame(gtruth_data['matches'])\n",
    "to_drop = []\n",
    "for col in (gt.columns):\n",
    "    if 'table' in col:\n",
    "        to_drop.append(col)\n",
    "        \n",
    "gt = gt.drop(columns=to_drop)\n",
    "\n",
    "schema = Schema(dataset_1=d1, dataset_2= d2, ground_truth=gt, matching_type=\"SCHEMA\")\n",
    "\n",
    "\n",
    "similarity = 0.15\n",
    "\n",
    "join = TopKJoin(**params)\n",
    "graph = join.fit(schema)\n",
    "clustering = UniqueMappingClustering()\n",
    "clusters = clustering.process(graph, schema, similarity)\n",
    "ev = clustering.evaluate(clusters)\n",
    "\n",
    "f1_scores.append(ev['F1 %'])\n",
    "runtime.append(join.execution_time + clustering.execution_time)"
   ]
  },
  {
   "cell_type": "markdown",
   "id": "28f89305",
   "metadata": {},
   "source": [
    "### Schema Matching (Coma)"
   ]
  },
  {
   "cell_type": "code",
   "execution_count": 8,
   "id": "9b4b5218",
   "metadata": {},
   "outputs": [
    {
     "name": "stdout",
     "output_type": "stream",
     "text": [
      "\n",
      "Matcher: Coma\n",
      "Runtime: 1.1564598083496094 seconds\n",
      "Parameters: \t{'max_n': 100, 'use_instances': True, 'java_xmx': '10240m'}\n",
      "Performance:\n",
      "\tPrecision:\t75.00%\n",
      "\tRecall:\t\t42.86%\n",
      "\tF1-score:\t54.55%\n"
     ]
    }
   ],
   "source": [
    "import time\n",
    "\n",
    "country = \"AT\"\n",
    "index = 1\n",
    "file_path = f'data/eurocrops/{country}'\n",
    "df_source, df_target, ground_truth = load_only_schema(file_path, country)\n",
    "start_time = time.time()\n",
    "\n",
    "params = ast.literal_eval(results_df.iloc[index][f\"{VAL_di[country]}: parameters\"])\n",
    "\n",
    "\n",
    "\n",
    "matcher = matchers[VAL_di[country]](**params)\n",
    "\n",
    "matches = valentine_match(df_source, df_target, matcher)\n",
    "\n",
    "execution_time = time.time() - start_time \n",
    "\n",
    "\n",
    "metrics = matches.get_metrics(ground_truth)\n",
    "\n",
    "print(f\"\\nMatcher: {matchers[VAL_di[country]].__name__}\\n\\\n",
    "Runtime: {execution_time} seconds\\n\\\n",
    "Parameters: \\t{params}\\n\\\n",
    "Performance:\\n\\\n",
    "\\tPrecision:\\t{metrics['Precision']*100:.2f}%\\n\\\n",
    "\\tRecall:\\t\\t{metrics['Recall']*100:.2f}%\\n\\\n",
    "\\tF1-score:\\t{metrics['F1Score']*100:.2f}%\")\n",
    "\n",
    "del matcher\n",
    "\n",
    "VAL_f1_scores.append(metrics['F1Score']*100)\n",
    "VAL_runtime.append(execution_time)"
   ]
  },
  {
   "cell_type": "markdown",
   "id": "599a583f",
   "metadata": {},
   "source": [
    "## Eurocrops Dataset : HR"
   ]
  },
  {
   "cell_type": "markdown",
   "id": "eda10139",
   "metadata": {},
   "source": [
    "### Semantic Schema Clustering"
   ]
  },
  {
   "cell_type": "code",
   "execution_count": 9,
   "id": "5a14e630",
   "metadata": {},
   "outputs": [
    {
     "name": "stderr",
     "output_type": "stream",
     "text": [
      "/tmp/ipykernel_311223/2314488987.py:13: DtypeWarning: Columns (13) have mixed types. Specify dtype option on import or set low_memory=False.\n",
      "  d1 = pd.read_csv(dbf_name)\n",
      "Embeddings-NN Block Building [sdistilroberta, faiss, cpu]: 100%|██████████| 38/38 [00:06<00:00,  5.53it/s]"
     ]
    },
    {
     "name": "stdout",
     "output_type": "stream",
     "text": [
      "***************************************************************************************************************************\n",
      "                                         Method:  Unique Mapping Clustering\n",
      "***************************************************************************************************************************\n",
      "Method name: Unique Mapping Clustering\n",
      "Parameters: \n",
      "\tSimilarity Threshold: 0.3999999999999999\n",
      "Runtime: 0.0010 seconds\n",
      "───────────────────────────────────────────────────────────────────────────────────────────────────────────────────────────\n",
      "Performance:\n",
      "\tPrecision:     75.00% \n",
      "\tRecall:        42.86%\n",
      "\tF1-score:      54.55%\n",
      "───────────────────────────────────────────────────────────────────────────────────────────────────────────────────────────\n"
     ]
    },
    {
     "name": "stderr",
     "output_type": "stream",
     "text": [
      "\n"
     ]
    }
   ],
   "source": [
    "country = \"HR\"\n",
    "index = 2\n",
    "dbf_name = f\"data/eurocrops/{country}/{country}_dbf.csv\"\n",
    "file_name = f\"data/eurocrops/{country}/{country}.csv\"\n",
    "gtruth_filename = f\"data/eurocrops/{country}/{country}.json\"\n",
    "params = ast.literal_eval(results_df.iloc[index][f\"{di[country]}: params\"])\n",
    "\n",
    "\n",
    "import json \n",
    "with open(gtruth_filename, 'r') as f:\n",
    "    gtruth_data = json.load(f)\n",
    "\n",
    "d1 = pd.read_csv(dbf_name)\n",
    "d2 = pd.read_csv(file_name)\n",
    "gt = pd.DataFrame(gtruth_data['matches'])\n",
    "to_drop = []\n",
    "for col in (gt.columns):\n",
    "    if 'table' in col:\n",
    "        to_drop.append(col)\n",
    "        \n",
    "gt = gt.drop(columns=to_drop)\n",
    "\n",
    "schema = Schema(dataset_1=d1, dataset_2= d2, ground_truth=gt, matching_type=\"SCHEMA\")\n",
    "\n",
    "\n",
    "from pyjedai.vector_based_blocking import EmbeddingsNNBlockBuilding\n",
    "\n",
    "similarity = params['similarity']\n",
    "\n",
    "emb = EmbeddingsNNBlockBuilding(vectorizer=params['language_model'])\n",
    "_, graph = emb.build_blocks(schema,\n",
    "    top_k=params['top_k'],\n",
    "    with_entity_matching=True)\n",
    "clustering = UniqueMappingClustering()\n",
    "clusters = clustering.process(graph, schema, similarity)\n",
    "ev = clustering.evaluate(clusters)\n",
    "\n",
    "f1_scores.append(ev['F1 %'])\n",
    "runtime.append(emb.execution_time + clustering.execution_time)"
   ]
  },
  {
   "cell_type": "markdown",
   "id": "affdfc4f",
   "metadata": {},
   "source": [
    "### Schema Matching (Cupid)"
   ]
  },
  {
   "cell_type": "code",
   "execution_count": 10,
   "id": "24899d4e",
   "metadata": {},
   "outputs": [
    {
     "name": "stderr",
     "output_type": "stream",
     "text": [
      "/tmp/ipykernel_311223/120839540.py:10: DtypeWarning: Columns (13) have mixed types. Specify dtype option on import or set low_memory=False.\n",
      "  df_source_tmp = pd.read_csv(source_filename).astype(str)\n"
     ]
    },
    {
     "name": "stdout",
     "output_type": "stream",
     "text": [
      "\n",
      "Matcher: Cupid\n",
      "Runtime: 37.85958933830261 seconds\n",
      "Parameters: \t{'th_accept': 0.45, 'parallelism': 1}\n",
      "Performance:\n",
      "\tPrecision:\t40.00%\n",
      "\tRecall:\t\t28.57%\n",
      "\tF1-score:\t33.33%\n"
     ]
    }
   ],
   "source": [
    "import time\n",
    "\n",
    "country = \"HR\"\n",
    "index = 2\n",
    "file_path = f'data/eurocrops/{country}'\n",
    "df_source, df_target, ground_truth = load_only_schema(file_path, country)\n",
    "start_time = time.time()\n",
    "\n",
    "params = ast.literal_eval(results_df.iloc[index][f\"{VAL_di[country]}: parameters\"])\n",
    "if 'parallelism' in params: \n",
    "    params['parallelism'] = 1\n",
    "\n",
    "\n",
    "matcher = matchers[VAL_di[country]](**params)\n",
    "\n",
    "matches = valentine_match(df_source, df_target, matcher)\n",
    "\n",
    "execution_time = time.time() - start_time \n",
    "\n",
    "\n",
    "metrics = matches.get_metrics(ground_truth)\n",
    "\n",
    "print(f\"\\nMatcher: {matchers[VAL_di[country]].__name__}\\n\\\n",
    "Runtime: {execution_time} seconds\\n\\\n",
    "Parameters: \\t{params}\\n\\\n",
    "Performance:\\n\\\n",
    "\\tPrecision:\\t{metrics['Precision']*100:.2f}%\\n\\\n",
    "\\tRecall:\\t\\t{metrics['Recall']*100:.2f}%\\n\\\n",
    "\\tF1-score:\\t{metrics['F1Score']*100:.2f}%\")\n",
    "\n",
    "del matcher\n",
    "\n",
    "\n",
    "VAL_f1_scores.append(metrics['F1Score']*100)\n",
    "VAL_runtime.append(execution_time)"
   ]
  },
  {
   "cell_type": "markdown",
   "id": "e335591d",
   "metadata": {},
   "source": [
    "## Eurocrops Dataset : FR"
   ]
  },
  {
   "cell_type": "markdown",
   "id": "2952bfa7",
   "metadata": {},
   "source": [
    "### Syntactic Schema Clustering"
   ]
  },
  {
   "cell_type": "code",
   "execution_count": 11,
   "id": "714a7044",
   "metadata": {},
   "outputs": [
    {
     "name": "stderr",
     "output_type": "stream",
     "text": [
      "Top-K Join (cosine): 16it [00:00, 14801.25it/s]           "
     ]
    },
    {
     "name": "stdout",
     "output_type": "stream",
     "text": [
      "***************************************************************************************************************************\n",
      "                                         Method:  Unique Mapping Clustering\n",
      "***************************************************************************************************************************\n",
      "Method name: Unique Mapping Clustering\n",
      "Parameters: \n",
      "\tSimilarity Threshold: 0.1\n",
      "Runtime: 0.0005 seconds\n",
      "───────────────────────────────────────────────────────────────────────────────────────────────────────────────────────────\n",
      "Performance:\n",
      "\tPrecision:    100.00% \n",
      "\tRecall:        66.67%\n",
      "\tF1-score:      80.00%\n",
      "───────────────────────────────────────────────────────────────────────────────────────────────────────────────────────────\n"
     ]
    },
    {
     "name": "stderr",
     "output_type": "stream",
     "text": [
      "\n"
     ]
    }
   ],
   "source": [
    "index = 3\n",
    "country = \"FR\"\n",
    "dbf_name = f\"data/eurocrops/{country}/{country}_dbf.csv\"\n",
    "file_name = f\"data/eurocrops/{country}/{country}.csv\"\n",
    "gtruth_filename = f\"data/eurocrops/{country}/{country}.json\"\n",
    "\n",
    "import json \n",
    "with open(gtruth_filename, 'r') as f:\n",
    "    gtruth_data = json.load(f)\n",
    "\n",
    "\n",
    "d1 = pd.read_csv(dbf_name)\n",
    "d2 = pd.read_csv(file_name)\n",
    "gt = pd.DataFrame(gtruth_data['matches'])\n",
    "\n",
    "schema = Schema(dataset_1=d1, dataset_2= d2, ground_truth=gt, matching_type=\"SCHEMA\")\n",
    "\n",
    "similarity = 0.1\n",
    "params = ast.literal_eval(results_df.iloc[index][f\"{di[country]}: params\"])\n",
    "\n",
    "join = TopKJoin(**params)\n",
    "graph = join.fit(schema)\n",
    "clustering = UniqueMappingClustering()\n",
    "clusters = clustering.process(graph, schema, similarity)\n",
    "ev = clustering.evaluate(clusters)\n",
    "\n",
    "f1_scores.append(ev['F1 %'])\n",
    "runtime.append(join.execution_time + clustering.execution_time)\n",
    "\n"
   ]
  },
  {
   "cell_type": "markdown",
   "id": "f41c9995",
   "metadata": {},
   "source": [
    "### Schema Matching (Coma)"
   ]
  },
  {
   "cell_type": "code",
   "execution_count": 12,
   "id": "20cf1a9e",
   "metadata": {},
   "outputs": [
    {
     "name": "stderr",
     "output_type": "stream",
     "text": [
      "huggingface/tokenizers: The current process just got forked, after parallelism has already been used. Disabling parallelism to avoid deadlocks...\n",
      "To disable this warning, you can either:\n",
      "\t- Avoid using `tokenizers` before the fork if possible\n",
      "\t- Explicitly set the environment variable TOKENIZERS_PARALLELISM=(true | false)\n"
     ]
    },
    {
     "name": "stdout",
     "output_type": "stream",
     "text": [
      "\n",
      "Matcher: Coma\n",
      "Runtime: 1.2533690929412842 seconds\n",
      "Paramceters: \t{'max_n': 100, 'use_instances': True, 'java_xmx': '10240m'}\n",
      "Performance:\n",
      "\tPrecision:\t100.00%\n",
      "\tRecall:\t\t66.67%\n",
      "\tF1-score:\t80.00%\n"
     ]
    }
   ],
   "source": [
    "import time\n",
    "\n",
    "country = \"FR\"\n",
    "index = 3\n",
    "file_path = f'data/eurocrops/{country}'\n",
    "df_source, df_target, ground_truth = load_only_schema(file_path, country)\n",
    "start_time = time.time()\n",
    "\n",
    "params = ast.literal_eval(results_df.iloc[index][f\"{VAL_di[country]}: parameters\"])\n",
    "\n",
    "\n",
    "\n",
    "matcher = matchers[VAL_di[country]](**params)\n",
    "\n",
    "matches = valentine_match(df_source, df_target, matcher)\n",
    "\n",
    "execution_time = time.time() - start_time \n",
    "\n",
    "\n",
    "metrics = matches.get_metrics(ground_truth)\n",
    "\n",
    "print(f\"\\nMatcher: {matchers[VAL_di[country]].__name__}\\n\\\n",
    "Runtime: {execution_time} seconds\\n\\\n",
    "Paramceters: \\t{params}\\n\\\n",
    "Performance:\\n\\\n",
    "\\tPrecision:\\t{metrics['Precision']*100:.2f}%\\n\\\n",
    "\\tRecall:\\t\\t{metrics['Recall']*100:.2f}%\\n\\\n",
    "\\tF1-score:\\t{metrics['F1Score']*100:.2f}%\")\n",
    "\n",
    "del matcher\n",
    "\n",
    "VAL_f1_scores.append(metrics['F1Score']*100)\n",
    "VAL_runtime.append(execution_time)"
   ]
  },
  {
   "cell_type": "markdown",
   "id": "76a5480a",
   "metadata": {},
   "source": [
    "## Eurocrops Dataset : LT"
   ]
  },
  {
   "cell_type": "markdown",
   "id": "1c875545",
   "metadata": {},
   "source": [
    "### Semantic Schema Clustering"
   ]
  },
  {
   "cell_type": "code",
   "execution_count": 13,
   "id": "36c9a63b",
   "metadata": {},
   "outputs": [
    {
     "name": "stderr",
     "output_type": "stream",
     "text": [
      "Embeddings-NN Block Building [st5, faiss, cpu]: 100%|██████████| 15/15 [00:11<00:00,  1.32it/s]"
     ]
    },
    {
     "name": "stdout",
     "output_type": "stream",
     "text": [
      "***************************************************************************************************************************\n",
      "                                         Method:  Unique Mapping Clustering\n",
      "***************************************************************************************************************************\n",
      "Method name: Unique Mapping Clustering\n",
      "Parameters: \n",
      "\tSimilarity Threshold: 0.1\n",
      "Runtime: 0.0006 seconds\n",
      "───────────────────────────────────────────────────────────────────────────────────────────────────────────────────────────\n",
      "Performance:\n",
      "\tPrecision:    100.00% \n",
      "\tRecall:        50.00%\n",
      "\tF1-score:      66.67%\n",
      "───────────────────────────────────────────────────────────────────────────────────────────────────────────────────────────\n"
     ]
    },
    {
     "name": "stderr",
     "output_type": "stream",
     "text": [
      "\n"
     ]
    }
   ],
   "source": [
    "country = \"LT\"\n",
    "index = 4\n",
    "dbf_name = f\"data/eurocrops/{country}/{country}_dbf.csv\"\n",
    "file_name = f\"data/eurocrops/{country}/{country}.csv\"\n",
    "gtruth_filename = f\"data/eurocrops/{country}/{country}.json\"\n",
    "params = ast.literal_eval(results_df.iloc[index][f\"{di[country]}: params\"])\n",
    "\n",
    "\n",
    "import json \n",
    "with open(gtruth_filename, 'r') as f:\n",
    "    gtruth_data = json.load(f)\n",
    "\n",
    "d1 = pd.read_csv(dbf_name)\n",
    "d2 = pd.read_csv(file_name)\n",
    "gt = pd.DataFrame(gtruth_data['matches'])\n",
    "to_drop = []\n",
    "for col in (gt.columns):\n",
    "    if 'table' in col:\n",
    "        to_drop.append(col)\n",
    "        \n",
    "gt = gt.drop(columns=to_drop)\n",
    "\n",
    "schema = Schema(dataset_1=d1, dataset_2= d2, ground_truth=gt, matching_type=\"SCHEMA\")\n",
    "\n",
    "\n",
    "from pyjedai.vector_based_blocking import EmbeddingsNNBlockBuilding\n",
    "\n",
    "similarity = params['similarity']\n",
    "\n",
    "emb = EmbeddingsNNBlockBuilding(vectorizer=params['language_model'])\n",
    "_, graph = emb.build_blocks(schema,\n",
    "    top_k=params['top_k'],\n",
    "    with_entity_matching=True)\n",
    "clustering = UniqueMappingClustering()\n",
    "clusters = clustering.process(graph, schema, similarity)\n",
    "ev = clustering.evaluate(clusters)\n",
    "\n",
    "f1_scores.append(ev['F1 %'])\n",
    "runtime.append(emb.execution_time + clustering.execution_time)\n",
    "\n"
   ]
  },
  {
   "cell_type": "markdown",
   "id": "fc4dd838",
   "metadata": {},
   "source": [
    "### Schema Matching (Coma)"
   ]
  },
  {
   "cell_type": "code",
   "execution_count": 14,
   "id": "ba8f1979",
   "metadata": {},
   "outputs": [
    {
     "name": "stderr",
     "output_type": "stream",
     "text": [
      "huggingface/tokenizers: The current process just got forked, after parallelism has already been used. Disabling parallelism to avoid deadlocks...\n",
      "To disable this warning, you can either:\n",
      "\t- Avoid using `tokenizers` before the fork if possible\n",
      "\t- Explicitly set the environment variable TOKENIZERS_PARALLELISM=(true | false)\n"
     ]
    },
    {
     "name": "stdout",
     "output_type": "stream",
     "text": [
      "\n",
      "Matcher: Coma\n",
      "Runtime: 1.2710087299346924 seconds\n",
      "Paramceters: \t{'max_n': 100, 'use_instances': True, 'java_xmx': '10240m'}\n",
      "Performance:\n",
      "\tPrecision:\t100.00%\n",
      "\tRecall:\t\t50.00%\n",
      "\tF1-score:\t66.67%\n"
     ]
    }
   ],
   "source": [
    "import time\n",
    "\n",
    "country = \"LT\"\n",
    "index = 4\n",
    "file_path = f'data/eurocrops/{country}'\n",
    "df_source, df_target, ground_truth = load_only_schema(file_path, country)\n",
    "start_time = time.time()\n",
    "\n",
    "params = ast.literal_eval(results_df.iloc[index][f\"{VAL_di[country]}: parameters\"])\n",
    "\n",
    "\n",
    "\n",
    "matcher = matchers[VAL_di[country]](**params)\n",
    "\n",
    "matches = valentine_match(df_source, df_target, matcher)\n",
    "\n",
    "execution_time = time.time() - start_time \n",
    "\n",
    "\n",
    "metrics = matches.get_metrics(ground_truth)\n",
    "\n",
    "print(f\"\\nMatcher: {matchers[VAL_di[country]].__name__}\\n\\\n",
    "Runtime: {execution_time} seconds\\n\\\n",
    "Paramceters: \\t{params}\\n\\\n",
    "Performance:\\n\\\n",
    "\\tPrecision:\\t{metrics['Precision']*100:.2f}%\\n\\\n",
    "\\tRecall:\\t\\t{metrics['Recall']*100:.2f}%\\n\\\n",
    "\\tF1-score:\\t{metrics['F1Score']*100:.2f}%\")\n",
    "\n",
    "del matcher\n",
    "\n",
    "VAL_f1_scores.append(metrics['F1Score']*100)\n",
    "VAL_runtime.append(execution_time)\n"
   ]
  },
  {
   "cell_type": "markdown",
   "id": "affc3817",
   "metadata": {},
   "source": [
    "## Eurocrops Dataset : SI"
   ]
  },
  {
   "cell_type": "markdown",
   "id": "24fa28eb",
   "metadata": {},
   "source": [
    "### Semantic Schema Clustering"
   ]
  },
  {
   "cell_type": "code",
   "execution_count": 15,
   "id": "93b10a85",
   "metadata": {},
   "outputs": [
    {
     "name": "stderr",
     "output_type": "stream",
     "text": [
      "Embeddings-NN Block Building [st5, faiss, cpu]: 100%|██████████| 18/18 [00:13<00:00,  1.33it/s]"
     ]
    },
    {
     "name": "stdout",
     "output_type": "stream",
     "text": [
      "***************************************************************************************************************************\n",
      "                                         Method:  Kiraly MSM Approximate Clustering\n",
      "***************************************************************************************************************************\n",
      "Method name: Kiraly MSM Approximate Clustering\n",
      "Parameters: \n",
      "\tSimilarity Threshold: 0.1\n",
      "Runtime: 0.0010 seconds\n",
      "───────────────────────────────────────────────────────────────────────────────────────────────────────────────────────────\n",
      "Performance:\n",
      "\tPrecision:    100.00% \n",
      "\tRecall:        57.14%\n",
      "\tF1-score:      72.73%\n",
      "───────────────────────────────────────────────────────────────────────────────────────────────────────────────────────────\n"
     ]
    },
    {
     "name": "stderr",
     "output_type": "stream",
     "text": [
      "\n"
     ]
    }
   ],
   "source": [
    "country = \"SI\"\n",
    "index = 5\n",
    "dbf_name = f\"data/eurocrops/{country}/{country}_dbf.csv\"\n",
    "file_name = f\"data/eurocrops/{country}/{country}.csv\"\n",
    "gtruth_filename = f\"data/eurocrops/{country}/{country}.json\"\n",
    "params = ast.literal_eval(results_df.iloc[index][f\"{di[country]}: params\"])\n",
    "\n",
    "\n",
    "import json \n",
    "with open(gtruth_filename, 'r') as f:\n",
    "    gtruth_data = json.load(f)\n",
    "\n",
    "d2 = pd.read_csv(dbf_name)\n",
    "d1 = pd.read_csv(file_name)\n",
    "gt = pd.DataFrame(gtruth_data['matches'])\n",
    "\n",
    "gt = gt.iloc[:, ::-1]\n",
    "\n",
    "to_drop = []\n",
    "for col in (gt.columns):\n",
    "    if 'table' in col:\n",
    "        to_drop.append(col)\n",
    "        \n",
    "gt = gt.drop(columns=to_drop)\n",
    "\n",
    "schema = Schema(dataset_1=d1, dataset_2= d2, ground_truth=gt, matching_type=\"SCHEMA\")\n",
    "\n",
    "\n",
    "from pyjedai.vector_based_blocking import EmbeddingsNNBlockBuilding\n",
    "from pyjedai.clustering import KiralyMSMApproximateClustering\n",
    "similarity = params['similarity']\n",
    "\n",
    "emb = EmbeddingsNNBlockBuilding(vectorizer=params['language_model'])\n",
    "_, graph = emb.build_blocks(schema,\n",
    "    top_k=params['top_k'],\n",
    "    with_entity_matching=True)\n",
    "clustering = KiralyMSMApproximateClustering()\n",
    "clusters = clustering.process(graph, schema, similarity)\n",
    "ev = clustering.evaluate(clusters)\n",
    "\n",
    "f1_scores.append(ev['F1 %'])\n",
    "runtime.append(emb.execution_time + clustering.execution_time)\n",
    "\n"
   ]
  },
  {
   "cell_type": "markdown",
   "id": "5aa8cec6",
   "metadata": {},
   "source": [
    "### Schema Matching (Coma)"
   ]
  },
  {
   "cell_type": "code",
   "execution_count": 16,
   "id": "701f3fc3",
   "metadata": {},
   "outputs": [
    {
     "name": "stderr",
     "output_type": "stream",
     "text": [
      "huggingface/tokenizers: The current process just got forked, after parallelism has already been used. Disabling parallelism to avoid deadlocks...\n",
      "To disable this warning, you can either:\n",
      "\t- Avoid using `tokenizers` before the fork if possible\n",
      "\t- Explicitly set the environment variable TOKENIZERS_PARALLELISM=(true | false)\n"
     ]
    },
    {
     "name": "stdout",
     "output_type": "stream",
     "text": [
      "\n",
      "Matcher: Coma\n",
      "Runtime: 1.2710487842559814 seconds\n",
      "Paramceters: \t{'max_n': 100, 'use_instances': True, 'java_xmx': '10240m'}\n",
      "Performance:\n",
      "\tPrecision:\t75.00%\n",
      "\tRecall:\t\t42.86%\n",
      "\tF1-score:\t54.55%\n"
     ]
    }
   ],
   "source": [
    "import time\n",
    "\n",
    "country = \"SI\"\n",
    "index = 5\n",
    "file_path = f'data/eurocrops/{country}'\n",
    "df_source, df_target, ground_truth = load_only_schema(file_path, country)\n",
    "start_time = time.time()\n",
    "\n",
    "params = ast.literal_eval(results_df.iloc[index][f\"{VAL_di[country]}: parameters\"])\n",
    "\n",
    "\n",
    "\n",
    "matcher = matchers[VAL_di[country]](**params)\n",
    "\n",
    "matches = valentine_match(df_source, df_target, matcher)\n",
    "\n",
    "execution_time = time.time() - start_time \n",
    "\n",
    "\n",
    "metrics = matches.get_metrics(ground_truth)\n",
    "\n",
    "print(f\"\\nMatcher: {matchers[VAL_di[country]].__name__}\\n\\\n",
    "Runtime: {execution_time} seconds\\n\\\n",
    "Paramceters: \\t{params}\\n\\\n",
    "Performance:\\n\\\n",
    "\\tPrecision:\\t{metrics['Precision']*100:.2f}%\\n\\\n",
    "\\tRecall:\\t\\t{metrics['Recall']*100:.2f}%\\n\\\n",
    "\\tF1-score:\\t{metrics['F1Score']*100:.2f}%\")\n",
    "\n",
    "del matcher \n",
    "VAL_f1_scores.append(metrics['F1Score']*100)\n",
    "VAL_runtime.append(execution_time)\n"
   ]
  },
  {
   "cell_type": "markdown",
   "id": "b0b5c346",
   "metadata": {},
   "source": [
    "## Eurocrops Dataset : DE-NRW"
   ]
  },
  {
   "cell_type": "markdown",
   "id": "2196386c",
   "metadata": {},
   "source": [
    "### Semantic Schema Clustering"
   ]
  },
  {
   "cell_type": "code",
   "execution_count": 17,
   "id": "39e4cb46",
   "metadata": {},
   "outputs": [
    {
     "name": "stderr",
     "output_type": "stream",
     "text": [
      "Embeddings-NN Block Building [sdistilroberta, faiss, cpu]: 100%|██████████| 24/24 [00:04<00:00,  5.42it/s]"
     ]
    },
    {
     "name": "stdout",
     "output_type": "stream",
     "text": [
      "***************************************************************************************************************************\n",
      "                                         Method:  Unique Mapping Clustering\n",
      "***************************************************************************************************************************\n",
      "Method name: Unique Mapping Clustering\n",
      "Parameters: \n",
      "\tSimilarity Threshold: 0.1\n",
      "Runtime: 0.0009 seconds\n",
      "───────────────────────────────────────────────────────────────────────────────────────────────────────────────────────────\n",
      "Performance:\n",
      "\tPrecision:     80.00% \n",
      "\tRecall:        57.14%\n",
      "\tF1-score:      66.67%\n",
      "───────────────────────────────────────────────────────────────────────────────────────────────────────────────────────────\n"
     ]
    },
    {
     "name": "stderr",
     "output_type": "stream",
     "text": [
      "\n"
     ]
    }
   ],
   "source": [
    "index = 6\n",
    "country = countries_to_list[index]\n",
    "dbf_name = f\"data/eurocrops/{country}/{country}_dbf.csv\"\n",
    "file_name = f\"data/eurocrops/{country}/{country}.csv\"\n",
    "gtruth_filename = f\"data/eurocrops/{country}/{country}.json\"\n",
    "params = ast.literal_eval(results_df.iloc[index][f\"{di[country]}: params\"])\n",
    "\n",
    "\n",
    "import json \n",
    "with open(gtruth_filename, 'r') as f:\n",
    "    gtruth_data = json.load(f)\n",
    "\n",
    "d1 = pd.read_csv(dbf_name)\n",
    "d2 = pd.read_csv(file_name)\n",
    "gt = pd.DataFrame(gtruth_data['matches'])\n",
    "to_drop = []\n",
    "for col in (gt.columns):\n",
    "    if 'table' in col:\n",
    "        to_drop.append(col)\n",
    "        \n",
    "gt = gt.drop(columns=to_drop)\n",
    "\n",
    "schema = Schema(dataset_1=d1, dataset_2= d2, ground_truth=gt, matching_type=\"SCHEMA\")\n",
    "\n",
    "\n",
    "from pyjedai.vector_based_blocking import EmbeddingsNNBlockBuilding\n",
    "\n",
    "similarity = params['similarity']\n",
    "\n",
    "emb = EmbeddingsNNBlockBuilding(vectorizer=params['language_model'])\n",
    "_, graph = emb.build_blocks(schema,\n",
    "    top_k=params['top_k'],\n",
    "    with_entity_matching=True)\n",
    "clustering = UniqueMappingClustering()\n",
    "clusters = clustering.process(graph, schema, similarity)\n",
    "ev = clustering.evaluate(clusters)\n",
    "\n",
    "f1_scores.append(ev['F1 %'])\n",
    "runtime.append(emb.execution_time + clustering.execution_time)\n",
    "\n"
   ]
  },
  {
   "cell_type": "markdown",
   "id": "f714cd1c",
   "metadata": {},
   "source": [
    "### Schema Matching (Coma)"
   ]
  },
  {
   "cell_type": "code",
   "execution_count": 18,
   "id": "22f7679b",
   "metadata": {},
   "outputs": [
    {
     "name": "stderr",
     "output_type": "stream",
     "text": [
      "huggingface/tokenizers: The current process just got forked, after parallelism has already been used. Disabling parallelism to avoid deadlocks...\n",
      "To disable this warning, you can either:\n",
      "\t- Avoid using `tokenizers` before the fork if possible\n",
      "\t- Explicitly set the environment variable TOKENIZERS_PARALLELISM=(true | false)\n"
     ]
    },
    {
     "name": "stdout",
     "output_type": "stream",
     "text": [
      "\n",
      "Matcher: Coma\n",
      "Runtime: 1.4345920085906982 seconds\n",
      "Paramceters: \t{'max_n': 100, 'use_instances': True, 'java_xmx': '10240m'}\n",
      "Performance:\n",
      "\tPrecision:\t75.00%\n",
      "\tRecall:\t\t42.86%\n",
      "\tF1-score:\t54.55%\n"
     ]
    }
   ],
   "source": [
    "import time\n",
    "\n",
    "index = 6\n",
    "country = countries_to_list[index]\n",
    "file_path = f'data/eurocrops/{country}'\n",
    "df_source, df_target, ground_truth = load_only_schema(file_path, country)\n",
    "start_time = time.time()\n",
    "\n",
    "params = ast.literal_eval(results_df.iloc[index][f\"{VAL_di[country]}: parameters\"])\n",
    "\n",
    "\n",
    "\n",
    "matcher = matchers[VAL_di[country]](**params)\n",
    "\n",
    "matches = valentine_match(df_source, df_target, matcher)\n",
    "\n",
    "execution_time = time.time() - start_time \n",
    "\n",
    "\n",
    "metrics = matches.get_metrics(ground_truth)\n",
    "\n",
    "print(f\"\\nMatcher: {matchers[VAL_di[country]].__name__}\\n\\\n",
    "Runtime: {execution_time} seconds\\n\\\n",
    "Paramceters: \\t{params}\\n\\\n",
    "Performance:\\n\\\n",
    "\\tPrecision:\\t{metrics['Precision']*100:.2f}%\\n\\\n",
    "\\tRecall:\\t\\t{metrics['Recall']*100:.2f}%\\n\\\n",
    "\\tF1-score:\\t{metrics['F1Score']*100:.2f}%\")\n",
    "\n",
    "del matcher \n",
    "\n",
    "VAL_f1_scores.append(metrics['F1Score']*100)\n",
    "VAL_runtime.append(execution_time)\n"
   ]
  },
  {
   "cell_type": "markdown",
   "id": "c07c2aaa",
   "metadata": {},
   "source": [
    "## Eurocrops Dataset : ES-NA"
   ]
  },
  {
   "cell_type": "markdown",
   "id": "e8406121",
   "metadata": {},
   "source": [
    "### Semantic Schema Clutering"
   ]
  },
  {
   "cell_type": "code",
   "execution_count": 19,
   "id": "e1f9caa2",
   "metadata": {},
   "outputs": [
    {
     "name": "stderr",
     "output_type": "stream",
     "text": [
      "/tmp/ipykernel_311223/4014343044.py:13: DtypeWarning: Columns (18) have mixed types. Specify dtype option on import or set low_memory=False.\n",
      "  d1 = pd.read_csv(dbf_name)\n",
      "Embeddings-NN Block Building [st5, faiss, cpu]: 100%|██████████| 32/32 [00:24<00:00,  1.32it/s]"
     ]
    },
    {
     "name": "stdout",
     "output_type": "stream",
     "text": [
      "***************************************************************************************************************************\n",
      "                                         Method:  Unique Mapping Clustering\n",
      "***************************************************************************************************************************\n",
      "Method name: Unique Mapping Clustering\n",
      "Parameters: \n",
      "\tSimilarity Threshold: 0.1\n",
      "Runtime: 0.0008 seconds\n",
      "───────────────────────────────────────────────────────────────────────────────────────────────────────────────────────────\n",
      "Performance:\n",
      "\tPrecision:    100.00% \n",
      "\tRecall:        42.86%\n",
      "\tF1-score:      60.00%\n",
      "───────────────────────────────────────────────────────────────────────────────────────────────────────────────────────────\n"
     ]
    },
    {
     "name": "stderr",
     "output_type": "stream",
     "text": [
      "\n"
     ]
    }
   ],
   "source": [
    "index = 7\n",
    "country = countries_to_list[index]\n",
    "dbf_name = f\"data/eurocrops/{country}/{country}_dbf.csv\"\n",
    "file_name = f\"data/eurocrops/{country}/{country}.csv\"\n",
    "gtruth_filename = f\"data/eurocrops/{country}/{country}.json\"\n",
    "params = ast.literal_eval(results_df.iloc[index][f\"{di[country]}: params\"])\n",
    "\n",
    "\n",
    "import json \n",
    "with open(gtruth_filename, 'r') as f:\n",
    "    gtruth_data = json.load(f)\n",
    "\n",
    "d1 = pd.read_csv(dbf_name)\n",
    "d2 = pd.read_csv(file_name)\n",
    "gt = pd.DataFrame(gtruth_data['matches'])\n",
    "to_drop = []\n",
    "for col in (gt.columns):\n",
    "    if 'table' in col:\n",
    "        to_drop.append(col)\n",
    "        \n",
    "gt = gt.drop(columns=to_drop)\n",
    "\n",
    "schema = Schema(dataset_1=d1, dataset_2= d2, ground_truth=gt, matching_type=\"SCHEMA\")\n",
    "\n",
    "\n",
    "from pyjedai.vector_based_blocking import EmbeddingsNNBlockBuilding\n",
    "\n",
    "similarity = params['similarity']\n",
    "\n",
    "emb = EmbeddingsNNBlockBuilding(vectorizer=params['language_model'])\n",
    "_, graph = emb.build_blocks(schema,\n",
    "    top_k=params['top_k'],\n",
    "    with_entity_matching=True)\n",
    "clustering = UniqueMappingClustering()\n",
    "clusters = clustering.process(graph, schema, similarity)\n",
    "ev = clustering.evaluate(clusters)\n",
    "\n",
    "f1_scores.append(ev['F1 %'])\n",
    "runtime.append(emb.execution_time + clustering.execution_time)\n",
    "\n"
   ]
  },
  {
   "cell_type": "markdown",
   "id": "cb8dbbab",
   "metadata": {},
   "source": [
    "### Schema Matching (Coma)"
   ]
  },
  {
   "cell_type": "code",
   "execution_count": 20,
   "id": "2e0f6b2a",
   "metadata": {},
   "outputs": [
    {
     "name": "stderr",
     "output_type": "stream",
     "text": [
      "/tmp/ipykernel_311223/120839540.py:10: DtypeWarning: Columns (18) have mixed types. Specify dtype option on import or set low_memory=False.\n",
      "  df_source_tmp = pd.read_csv(source_filename).astype(str)\n",
      "huggingface/tokenizers: The current process just got forked, after parallelism has already been used. Disabling parallelism to avoid deadlocks...\n",
      "To disable this warning, you can either:\n",
      "\t- Avoid using `tokenizers` before the fork if possible\n",
      "\t- Explicitly set the environment variable TOKENIZERS_PARALLELISM=(true | false)\n"
     ]
    },
    {
     "name": "stdout",
     "output_type": "stream",
     "text": [
      "\n",
      "Matcher: Coma\n",
      "Runtime: 1.3549344539642334 seconds\n",
      "Paramceters: \t{'max_n': 100, 'use_instances': True, 'java_xmx': '10240m'}\n",
      "Performance:\n",
      "\tPrecision:\t75.00%\n",
      "\tRecall:\t\t42.86%\n",
      "\tF1-score:\t54.55%\n"
     ]
    }
   ],
   "source": [
    "import time\n",
    "\n",
    "index = 7\n",
    "country = countries_to_list[index]\n",
    "file_path = f'data/eurocrops/{country}'\n",
    "df_source, df_target, ground_truth = load_only_schema(file_path, country)\n",
    "start_time = time.time()\n",
    "\n",
    "params = ast.literal_eval(results_df.iloc[index][f\"{VAL_di[country]}: parameters\"])\n",
    "\n",
    "\n",
    "\n",
    "matcher = matchers[VAL_di[country]](**params)\n",
    "\n",
    "matches = valentine_match(df_source, df_target, matcher)\n",
    "\n",
    "execution_time = time.time() - start_time \n",
    "\n",
    "\n",
    "metrics = matches.get_metrics(ground_truth)\n",
    "\n",
    "print(f\"\\nMatcher: {matchers[VAL_di[country]].__name__}\\n\\\n",
    "Runtime: {execution_time} seconds\\n\\\n",
    "Paramceters: \\t{params}\\n\\\n",
    "Performance:\\n\\\n",
    "\\tPrecision:\\t{metrics['Precision']*100:.2f}%\\n\\\n",
    "\\tRecall:\\t\\t{metrics['Recall']*100:.2f}%\\n\\\n",
    "\\tF1-score:\\t{metrics['F1Score']*100:.2f}%\")\n",
    "\n",
    "del matcher \n",
    "\n",
    "VAL_f1_scores.append(metrics['F1Score']*100)\n",
    "VAL_runtime.append(execution_time)\n"
   ]
  },
  {
   "cell_type": "markdown",
   "id": "39bd1562",
   "metadata": {},
   "source": [
    "## Eurocrops Dataset : EE"
   ]
  },
  {
   "cell_type": "markdown",
   "id": "1e578541",
   "metadata": {},
   "source": [
    "### Semantic Schema Clustering"
   ]
  },
  {
   "cell_type": "code",
   "execution_count": 21,
   "id": "b9401e39",
   "metadata": {},
   "outputs": [
    {
     "name": "stderr",
     "output_type": "stream",
     "text": [
      "Embeddings-NN Block Building [st5, faiss, cpu]: 100%|██████████| 20/20 [00:12<00:00,  1.65it/s]"
     ]
    },
    {
     "name": "stdout",
     "output_type": "stream",
     "text": [
      "***************************************************************************************************************************\n",
      "                                         Method:  Unique Mapping Clustering\n",
      "***************************************************************************************************************************\n",
      "Method name: Unique Mapping Clustering\n",
      "Parameters: \n",
      "\tSimilarity Threshold: 0.1\n",
      "Runtime: 0.0009 seconds\n",
      "───────────────────────────────────────────────────────────────────────────────────────────────────────────────────────────\n",
      "Performance:\n",
      "\tPrecision:    100.00% \n",
      "\tRecall:        57.14%\n",
      "\tF1-score:      72.73%\n",
      "───────────────────────────────────────────────────────────────────────────────────────────────────────────────────────────\n"
     ]
    },
    {
     "name": "stderr",
     "output_type": "stream",
     "text": [
      "\n"
     ]
    }
   ],
   "source": [
    "country = \"EE\"\n",
    "index = 8\n",
    "dbf_name = f\"data/eurocrops/{country}/{country}_dbf.csv\"\n",
    "file_name = f\"data/eurocrops/{country}/{country}.csv\"\n",
    "gtruth_filename = f\"data/eurocrops/{country}/{country}.json\"\n",
    "params = ast.literal_eval(results_df.iloc[index][f\"{di[country]}: params\"])\n",
    "\n",
    "\n",
    "import json \n",
    "with open(gtruth_filename, 'r') as f:\n",
    "    gtruth_data = json.load(f)\n",
    "\n",
    "d1 = pd.read_csv(dbf_name)\n",
    "d2 = pd.read_csv(file_name)\n",
    "gt = pd.DataFrame(gtruth_data['matches'])\n",
    "to_drop = []\n",
    "for col in (gt.columns):\n",
    "    if 'table' in col:\n",
    "        to_drop.append(col)\n",
    "        \n",
    "gt = gt.drop(columns=to_drop)\n",
    "\n",
    "schema = Schema(dataset_1=d1, dataset_2= d2, ground_truth=gt, matching_type=\"SCHEMA\")\n",
    "\n",
    "\n",
    "from pyjedai.vector_based_blocking import EmbeddingsNNBlockBuilding\n",
    "\n",
    "similarity = params['similarity']\n",
    "\n",
    "emb = EmbeddingsNNBlockBuilding(vectorizer=params['language_model'])\n",
    "_, graph = emb.build_blocks(schema,\n",
    "    top_k=params['top_k'],\n",
    "    with_entity_matching=True)\n",
    "clustering = UniqueMappingClustering()\n",
    "clusters = clustering.process(graph, schema, similarity)\n",
    "ev = clustering.evaluate(clusters)\n",
    "\n",
    "f1_scores.append(ev['F1 %'])\n",
    "runtime.append(emb.execution_time + clustering.execution_time)\n",
    "\n"
   ]
  },
  {
   "cell_type": "markdown",
   "id": "d8c0934d",
   "metadata": {},
   "source": [
    "### Schema Matching (Coma)"
   ]
  },
  {
   "cell_type": "code",
   "execution_count": 22,
   "id": "91673190",
   "metadata": {},
   "outputs": [
    {
     "name": "stderr",
     "output_type": "stream",
     "text": [
      "huggingface/tokenizers: The current process just got forked, after parallelism has already been used. Disabling parallelism to avoid deadlocks...\n",
      "To disable this warning, you can either:\n",
      "\t- Avoid using `tokenizers` before the fork if possible\n",
      "\t- Explicitly set the environment variable TOKENIZERS_PARALLELISM=(true | false)\n"
     ]
    },
    {
     "name": "stdout",
     "output_type": "stream",
     "text": [
      "\n",
      "Matcher: Coma\n",
      "Runtime: 1.367476463317871 seconds\n",
      "Paramceters: \t{'max_n': 100, 'use_instances': True, 'java_xmx': '10240m'}\n",
      "Performance:\n",
      "\tPrecision:\t33.33%\n",
      "\tRecall:\t\t14.29%\n",
      "\tF1-score:\t20.00%\n"
     ]
    }
   ],
   "source": [
    "import time\n",
    "\n",
    "index = 8\n",
    "country = countries_to_list[index]\n",
    "file_path = f'data/eurocrops/{country}'\n",
    "df_source, df_target, ground_truth = load_only_schema(file_path, country)\n",
    "start_time = time.time()\n",
    "\n",
    "params = ast.literal_eval(results_df.iloc[index][f\"{VAL_di[country]}: parameters\"])\n",
    "\n",
    "\n",
    "\n",
    "matcher = matchers[VAL_di[country]](**params)\n",
    "\n",
    "matches = valentine_match(df_source, df_target, matcher)\n",
    "\n",
    "execution_time = time.time() - start_time \n",
    "\n",
    "\n",
    "metrics = matches.get_metrics(ground_truth)\n",
    "\n",
    "print(f\"\\nMatcher: {matchers[VAL_di[country]].__name__}\\n\\\n",
    "Runtime: {execution_time} seconds\\n\\\n",
    "Paramceters: \\t{params}\\n\\\n",
    "Performance:\\n\\\n",
    "\\tPrecision:\\t{metrics['Precision']*100:.2f}%\\n\\\n",
    "\\tRecall:\\t\\t{metrics['Recall']*100:.2f}%\\n\\\n",
    "\\tF1-score:\\t{metrics['F1Score']*100:.2f}%\")\n",
    "del matcher \n",
    "\n",
    "VAL_f1_scores.append(metrics['F1Score']*100)\n",
    "VAL_runtime.append(execution_time)\n"
   ]
  },
  {
   "cell_type": "markdown",
   "id": "2e4de81c",
   "metadata": {},
   "source": [
    "## Eurocrops Dataset : SK"
   ]
  },
  {
   "cell_type": "markdown",
   "id": "87b161a2",
   "metadata": {},
   "source": [
    "### Syntactic Schema Clustering"
   ]
  },
  {
   "cell_type": "code",
   "execution_count": 23,
   "id": "50154a49",
   "metadata": {},
   "outputs": [
    {
     "name": "stderr",
     "output_type": "stream",
     "text": [
      "Top-K Join (cosine): 17it [00:00, 15626.38it/s]           "
     ]
    },
    {
     "name": "stdout",
     "output_type": "stream",
     "text": [
      "***************************************************************************************************************************\n",
      "                                         Method:  Unique Mapping Clustering\n",
      "***************************************************************************************************************************\n",
      "Method name: Unique Mapping Clustering\n",
      "Parameters: \n",
      "\tSimilarity Threshold: 0.1\n",
      "Runtime: 0.0005 seconds\n",
      "───────────────────────────────────────────────────────────────────────────────────────────────────────────────────────────\n",
      "Performance:\n",
      "\tPrecision:    100.00% \n",
      "\tRecall:        66.67%\n",
      "\tF1-score:      80.00%\n",
      "───────────────────────────────────────────────────────────────────────────────────────────────────────────────────────────\n"
     ]
    },
    {
     "name": "stderr",
     "output_type": "stream",
     "text": [
      "\n"
     ]
    }
   ],
   "source": [
    "country = \"SK\"\n",
    "index = 9\n",
    "dbf_name = f\"data/eurocrops/{country}/{country}_dbf.csv\"\n",
    "file_name = f\"data/eurocrops/{country}/{country}.csv\"\n",
    "gtruth_filename = f\"data/eurocrops/{country}/{country}.json\"\n",
    "\n",
    "import json \n",
    "with open(gtruth_filename, 'r') as f:\n",
    "    gtruth_data = json.load(f)\n",
    "\n",
    "\n",
    "d1 = pd.read_csv(dbf_name)\n",
    "d2 = pd.read_csv(file_name)\n",
    "gt = pd.DataFrame(gtruth_data['matches'])\n",
    "\n",
    "schema = Schema(dataset_1=d1, dataset_2= d2, ground_truth=gt, matching_type=\"SCHEMA\")\n",
    "\n",
    "similarity = 0.1\n",
    "params = ast.literal_eval(results_df.iloc[index][f\"{di[country]}: params\"])\n",
    "\n",
    "join = TopKJoin(**params)\n",
    "graph = join.fit(schema)\n",
    "clustering = UniqueMappingClustering()\n",
    "clusters = clustering.process(graph, schema, similarity)\n",
    "ev = clustering.evaluate(clusters)\n",
    "\n",
    "f1_scores.append(ev['F1 %'])\n",
    "runtime.append(join.execution_time + clustering.execution_time)\n",
    "\n"
   ]
  },
  {
   "cell_type": "markdown",
   "id": "35ba59d8",
   "metadata": {},
   "source": [
    "### Schema Matching (Coma)"
   ]
  },
  {
   "cell_type": "code",
   "execution_count": 24,
   "id": "9ba380ad",
   "metadata": {},
   "outputs": [
    {
     "name": "stderr",
     "output_type": "stream",
     "text": [
      "huggingface/tokenizers: The current process just got forked, after parallelism has already been used. Disabling parallelism to avoid deadlocks...\n",
      "To disable this warning, you can either:\n",
      "\t- Avoid using `tokenizers` before the fork if possible\n",
      "\t- Explicitly set the environment variable TOKENIZERS_PARALLELISM=(true | false)\n"
     ]
    },
    {
     "name": "stdout",
     "output_type": "stream",
     "text": [
      "\n",
      "Matcher: Coma\n",
      "Runtime: 1.3912601470947266 seconds\n",
      "Paramceters: \t{'max_n': 100, 'use_instances': True, 'java_xmx': '10240m'}\n",
      "Performance:\n",
      "\tPrecision:\t100.00%\n",
      "\tRecall:\t\t66.67%\n",
      "\tF1-score:\t80.00%\n"
     ]
    }
   ],
   "source": [
    "import time\n",
    "\n",
    "index = 9\n",
    "country = countries_to_list[index]\n",
    "file_path = f'data/eurocrops/{country}'\n",
    "df_source, df_target, ground_truth = load_only_schema(file_path, country)\n",
    "start_time = time.time()\n",
    "\n",
    "params = ast.literal_eval(results_df.iloc[index][f\"{VAL_di[country]}: parameters\"])\n",
    "\n",
    "\n",
    "\n",
    "matcher = matchers[VAL_di[country]](**params)\n",
    "\n",
    "matches = valentine_match(df_source, df_target, matcher)\n",
    "\n",
    "execution_time = time.time() - start_time \n",
    "\n",
    "\n",
    "metrics = matches.get_metrics(ground_truth)\n",
    "\n",
    "print(f\"\\nMatcher: {matchers[VAL_di[country]].__name__}\\n\\\n",
    "Runtime: {execution_time} seconds\\n\\\n",
    "Paramceters: \\t{params}\\n\\\n",
    "Performance:\\n\\\n",
    "\\tPrecision:\\t{metrics['Precision']*100:.2f}%\\n\\\n",
    "\\tRecall:\\t\\t{metrics['Recall']*100:.2f}%\\n\\\n",
    "\\tF1-score:\\t{metrics['F1Score']*100:.2f}%\")\n",
    "\n",
    "\n",
    "del matcher \n",
    "\n",
    "VAL_f1_scores.append(metrics['F1Score']*100)\n",
    "VAL_runtime.append(execution_time)"
   ]
  },
  {
   "cell_type": "markdown",
   "id": "070c9023",
   "metadata": {},
   "source": [
    "## Eurocrops Dataset : NL"
   ]
  },
  {
   "cell_type": "markdown",
   "id": "b6cbafdf",
   "metadata": {},
   "source": [
    "### Semantic Schema Clustering"
   ]
  },
  {
   "cell_type": "code",
   "execution_count": 25,
   "id": "f19f3eb1",
   "metadata": {},
   "outputs": [
    {
     "name": "stderr",
     "output_type": "stream",
     "text": [
      "Embeddings-NN Block Building [st5, faiss, cpu]: 100%|██████████| 16/16 [00:13<00:00,  1.23it/s]"
     ]
    },
    {
     "name": "stdout",
     "output_type": "stream",
     "text": [
      "***************************************************************************************************************************\n",
      "                                         Method:  Unique Mapping Clustering\n",
      "***************************************************************************************************************************\n",
      "Method name: Unique Mapping Clustering\n",
      "Parameters: \n",
      "\tSimilarity Threshold: 0.1\n",
      "Runtime: 0.0008 seconds\n",
      "───────────────────────────────────────────────────────────────────────────────────────────────────────────────────────────\n",
      "Performance:\n",
      "\tPrecision:    100.00% \n",
      "\tRecall:        57.14%\n",
      "\tF1-score:      72.73%\n",
      "───────────────────────────────────────────────────────────────────────────────────────────────────────────────────────────\n"
     ]
    },
    {
     "name": "stderr",
     "output_type": "stream",
     "text": [
      "\n"
     ]
    }
   ],
   "source": [
    "country = \"NL\"\n",
    "index = 10\n",
    "dbf_name = f\"data/eurocrops/{country}/{country}_dbf.csv\"\n",
    "file_name = f\"data/eurocrops/{country}/{country}.csv\"\n",
    "gtruth_filename = f\"data/eurocrops/{country}/{country}.json\"\n",
    "params = ast.literal_eval(results_df.iloc[index][f\"{di[country]}: params\"])\n",
    "\n",
    "\n",
    "import json \n",
    "with open(gtruth_filename, 'r') as f:\n",
    "    gtruth_data = json.load(f)\n",
    "\n",
    "d1 = pd.read_csv(dbf_name)\n",
    "d2 = pd.read_csv(file_name)\n",
    "gt = pd.DataFrame(gtruth_data['matches'])\n",
    "to_drop = []\n",
    "for col in (gt.columns):\n",
    "    if 'table' in col:\n",
    "        to_drop.append(col)\n",
    "        \n",
    "gt = gt.drop(columns=to_drop)\n",
    "\n",
    "schema = Schema(dataset_1=d1, dataset_2= d2, ground_truth=gt, matching_type=\"SCHEMA\")\n",
    "\n",
    "\n",
    "from pyjedai.vector_based_blocking import EmbeddingsNNBlockBuilding\n",
    "\n",
    "similarity = params['similarity']\n",
    "\n",
    "emb = EmbeddingsNNBlockBuilding(vectorizer=params['language_model'])\n",
    "_, graph = emb.build_blocks(schema,\n",
    "    top_k=params['top_k'],\n",
    "    with_entity_matching=True)\n",
    "clustering = UniqueMappingClustering()\n",
    "clusters = clustering.process(graph, schema, similarity)\n",
    "ev = clustering.evaluate(clusters)\n",
    "\n",
    "f1_scores.append(ev['F1 %'])\n",
    "runtime.append(emb.execution_time + clustering.execution_time)\n",
    "\n"
   ]
  },
  {
   "cell_type": "markdown",
   "id": "6fbc5bd3",
   "metadata": {},
   "source": [
    "### Schema Matching (Coma)"
   ]
  },
  {
   "cell_type": "code",
   "execution_count": 26,
   "id": "db60709a",
   "metadata": {},
   "outputs": [
    {
     "name": "stderr",
     "output_type": "stream",
     "text": [
      "huggingface/tokenizers: The current process just got forked, after parallelism has already been used. Disabling parallelism to avoid deadlocks...\n",
      "To disable this warning, you can either:\n",
      "\t- Avoid using `tokenizers` before the fork if possible\n",
      "\t- Explicitly set the environment variable TOKENIZERS_PARALLELISM=(true | false)\n"
     ]
    },
    {
     "name": "stdout",
     "output_type": "stream",
     "text": [
      "\n",
      "Matcher: Coma\n",
      "Runtime: 1.3349571228027344 seconds\n",
      "Paramceters: \t{'max_n': 100, 'use_instances': True, 'java_xmx': '10240m'}\n",
      "Performance:\n",
      "\tPrecision:\t50.00%\n",
      "\tRecall:\t\t28.57%\n",
      "\tF1-score:\t36.36%\n"
     ]
    }
   ],
   "source": [
    "import time\n",
    "\n",
    "index = 10\n",
    "country = countries_to_list[index]\n",
    "file_path = f'data/eurocrops/{country}'\n",
    "df_source, df_target, ground_truth = load_only_schema(file_path, country)\n",
    "start_time = time.time()\n",
    "\n",
    "params = ast.literal_eval(results_df.iloc[index][f\"{VAL_di[country]}: parameters\"])\n",
    "\n",
    "\n",
    "\n",
    "matcher = matchers[VAL_di[country]](**params)\n",
    "\n",
    "matches = valentine_match(df_source, df_target, matcher)\n",
    "\n",
    "execution_time = time.time() - start_time \n",
    "\n",
    "\n",
    "metrics = matches.get_metrics(ground_truth)\n",
    "\n",
    "print(f\"\\nMatcher: {matchers[VAL_di[country]].__name__}\\n\\\n",
    "Runtime: {execution_time} seconds\\n\\\n",
    "Paramceters: \\t{params}\\n\\\n",
    "Performance:\\n\\\n",
    "\\tPrecision:\\t{metrics['Precision']*100:.2f}%\\n\\\n",
    "\\tRecall:\\t\\t{metrics['Recall']*100:.2f}%\\n\\\n",
    "\\tF1-score:\\t{metrics['F1Score']*100:.2f}%\")\n",
    "del matcher \n",
    "\n",
    "\n",
    "VAL_f1_scores.append(metrics['F1Score']*100)\n",
    "VAL_runtime.append(execution_time)\n"
   ]
  },
  {
   "cell_type": "markdown",
   "id": "3dd82879",
   "metadata": {},
   "source": [
    "## Eurocrops Dataset : SE"
   ]
  },
  {
   "cell_type": "markdown",
   "id": "36b202c9",
   "metadata": {},
   "source": [
    "### Syntactic Schema Clustering"
   ]
  },
  {
   "cell_type": "code",
   "execution_count": null,
   "id": "13c32442",
   "metadata": {},
   "outputs": [
    {
     "name": "stderr",
     "output_type": "stream",
     "text": [
      "Top-K Join (cosine): 25it [00:00, 18113.25it/s]           "
     ]
    },
    {
     "name": "stdout",
     "output_type": "stream",
     "text": [
      "Graph with 12 nodes and 7 edges\n",
      "***************************************************************************************************************************\n",
      "                                         Method:  Unique Mapping Clustering\n",
      "***************************************************************************************************************************\n",
      "Method name: Unique Mapping Clustering\n",
      "Parameters: \n",
      "\tSimilarity Threshold: 0.2\n",
      "Runtime: 0.0004 seconds\n",
      "───────────────────────────────────────────────────────────────────────────────────────────────────────────────────────────\n",
      "Performance:\n",
      "\tPrecision:    100.00% \n",
      "\tRecall:        57.14%\n",
      "\tF1-score:      72.73%\n",
      "───────────────────────────────────────────────────────────────────────────────────────────────────────────────────────────\n"
     ]
    },
    {
     "name": "stderr",
     "output_type": "stream",
     "text": [
      "\n"
     ]
    }
   ],
   "source": [
    "country = \"SE\"\n",
    "index = 11\n",
    "dbf_name = f\"data/eurocrops/{country}/{country}_dbf.csv\"\n",
    "file_name = f\"data/eurocrops/{country}/{country}.csv\"\n",
    "gtruth_filename = f\"data/eurocrops/{country}/{country}.json\"\n",
    "\n",
    "import json \n",
    "with open(gtruth_filename, 'r') as f:\n",
    "    gtruth_data = json.load(f)\n",
    "\n",
    "\n",
    "d1 = pd.read_csv(dbf_name).astype(str)\n",
    "d2 = pd.read_csv(file_name).astype(str)\n",
    "gt = pd.DataFrame(gtruth_data['matches']).astype(str)\n",
    "\n",
    "\n",
    "\n",
    "schema = Schema(dataset_1=d1, dataset_2= d2, ground_truth=gt, matching_type=\"SCHEMA\")\n",
    "\n",
    "\n",
    "\n",
    "similarity = 0.2\n",
    "params = ast.literal_eval(results_df.iloc[index][f\"{di[country]}: params\"])\n",
    "\n",
    "join = TopKJoin(**params)\n",
    "graph = join.fit(schema)\n",
    "print(graph)\n",
    "clustering = UniqueMappingClustering()\n",
    "clusters = clustering.process(graph, schema, similarity)\n",
    "ev = clustering.evaluate(clusters)\n",
    "\n",
    "\n",
    "\n",
    "f1_scores.append(ev['F1 %'])\n",
    "runtime.append(join.execution_time + clustering.execution_time)\n",
    "\n"
   ]
  },
  {
   "cell_type": "markdown",
   "id": "7ebbe624",
   "metadata": {},
   "source": [
    "### Schema Matching (Coma)"
   ]
  },
  {
   "cell_type": "code",
   "execution_count": 40,
   "id": "0c735153",
   "metadata": {},
   "outputs": [
    {
     "name": "stderr",
     "output_type": "stream",
     "text": [
      "huggingface/tokenizers: The current process just got forked, after parallelism has already been used. Disabling parallelism to avoid deadlocks...\n",
      "To disable this warning, you can either:\n",
      "\t- Avoid using `tokenizers` before the fork if possible\n",
      "\t- Explicitly set the environment variable TOKENIZERS_PARALLELISM=(true | false)\n"
     ]
    },
    {
     "name": "stdout",
     "output_type": "stream",
     "text": [
      "\n",
      "Matcher: Coma\n",
      "Runtime: 1.4801459312438965 seconds\n",
      "Paramceters: \t{'max_n': 100, 'use_instances': True, 'java_xmx': '10240m'}\n",
      "Performance:\n",
      "\tPrecision:\t100.00%\n",
      "\tRecall:\t\t42.86%\n",
      "\tF1-score:\t60.00%\n"
     ]
    }
   ],
   "source": [
    "import time\n",
    "\n",
    "index = 11\n",
    "country = countries_to_list[index]\n",
    "file_path = f'data/eurocrops/{country}'\n",
    "df_source, df_target, ground_truth = load_only_schema(file_path, country)\n",
    "start_time = time.time()\n",
    "\n",
    "params = ast.literal_eval(results_df.iloc[index][f\"{VAL_di[country]}: parameters\"])\n",
    "\n",
    "\n",
    "\n",
    "matcher = matchers[VAL_di[country]](**params)\n",
    "\n",
    "matches = valentine_match(df_source, df_target, matcher)\n",
    "\n",
    "execution_time = time.time() - start_time \n",
    "\n",
    "\n",
    "metrics = matches.get_metrics(ground_truth)\n",
    "\n",
    "print(f\"\\nMatcher: {matchers[VAL_di[country]].__name__}\\n\\\n",
    "Runtime: {execution_time} seconds\\n\\\n",
    "Paramceters: \\t{params}\\n\\\n",
    "Performance:\\n\\\n",
    "\\tPrecision:\\t{metrics['Precision']*100:.2f}%\\n\\\n",
    "\\tRecall:\\t\\t{metrics['Recall']*100:.2f}%\\n\\\n",
    "\\tF1-score:\\t{metrics['F1Score']*100:.2f}%\")\n",
    "\n",
    "del matcher \n",
    "\n",
    "\n",
    "VAL_f1_scores.append(metrics['F1Score']*100)\n",
    "VAL_runtime.append(execution_time)\n"
   ]
  },
  {
   "cell_type": "markdown",
   "id": "4a86fc3d",
   "metadata": {},
   "source": [
    "## Eurocrops Dataset : DK"
   ]
  },
  {
   "cell_type": "markdown",
   "id": "462af574",
   "metadata": {},
   "source": [
    "### Semantic Schema Clustering"
   ]
  },
  {
   "cell_type": "code",
   "execution_count": 41,
   "id": "c3a31d86",
   "metadata": {},
   "outputs": [
    {
     "name": "stderr",
     "output_type": "stream",
     "text": [
      "Embeddings-NN Block Building [st5, faiss, cpu]: 100%|██████████| 19/19 [00:15<00:00,  1.21it/s]"
     ]
    },
    {
     "name": "stdout",
     "output_type": "stream",
     "text": [
      "***************************************************************************************************************************\n",
      "                                         Method:  Unique Mapping Clustering\n",
      "***************************************************************************************************************************\n",
      "Method name: Unique Mapping Clustering\n",
      "Parameters: \n",
      "\tSimilarity Threshold: 0.1\n",
      "Runtime: 0.0008 seconds\n",
      "───────────────────────────────────────────────────────────────────────────────────────────────────────────────────────────\n",
      "Performance:\n",
      "\tPrecision:    100.00% \n",
      "\tRecall:        57.14%\n",
      "\tF1-score:      72.73%\n",
      "───────────────────────────────────────────────────────────────────────────────────────────────────────────────────────────\n"
     ]
    },
    {
     "name": "stderr",
     "output_type": "stream",
     "text": [
      "\n"
     ]
    }
   ],
   "source": [
    "country = \"DK\"\n",
    "index = 12\n",
    "dbf_name = f\"data/eurocrops/{country}/{country}_dbf.csv\"\n",
    "file_name = f\"data/eurocrops/{country}/{country}.csv\"\n",
    "gtruth_filename = f\"data/eurocrops/{country}/{country}.json\"\n",
    "params = ast.literal_eval(results_df.iloc[index][f\"{di[country]}: params\"])\n",
    "\n",
    "\n",
    "import json \n",
    "with open(gtruth_filename, 'r') as f:\n",
    "    gtruth_data = json.load(f)\n",
    "\n",
    "d1 = pd.read_csv(dbf_name)\n",
    "d2 = pd.read_csv(file_name)\n",
    "gt = pd.DataFrame(gtruth_data['matches'])\n",
    "to_drop = []\n",
    "for col in (gt.columns):\n",
    "    if 'table' in col:\n",
    "        to_drop.append(col)\n",
    "        \n",
    "gt = gt.drop(columns=to_drop)\n",
    "\n",
    "schema = Schema(dataset_1=d1, dataset_2= d2, ground_truth=gt, matching_type=\"SCHEMA\")\n",
    "\n",
    "\n",
    "from pyjedai.vector_based_blocking import EmbeddingsNNBlockBuilding\n",
    "\n",
    "similarity = params['similarity']\n",
    "\n",
    "emb = EmbeddingsNNBlockBuilding(vectorizer=params['language_model'])\n",
    "_, graph = emb.build_blocks(schema,\n",
    "    top_k=params['top_k'],\n",
    "    with_entity_matching=True)\n",
    "clustering = UniqueMappingClustering()\n",
    "clusters = clustering.process(graph, schema, similarity)\n",
    "ev = clustering.evaluate(clusters)\n",
    "\n",
    "f1_scores.append(ev['F1 %'])\n",
    "runtime.append(emb.execution_time + clustering.execution_time)\n",
    "\n"
   ]
  },
  {
   "cell_type": "markdown",
   "id": "97dae248",
   "metadata": {},
   "source": [
    "### Schema Matching (Coma)"
   ]
  },
  {
   "cell_type": "code",
   "execution_count": 42,
   "id": "ec7fb748",
   "metadata": {},
   "outputs": [
    {
     "name": "stderr",
     "output_type": "stream",
     "text": [
      "huggingface/tokenizers: The current process just got forked, after parallelism has already been used. Disabling parallelism to avoid deadlocks...\n",
      "To disable this warning, you can either:\n",
      "\t- Avoid using `tokenizers` before the fork if possible\n",
      "\t- Explicitly set the environment variable TOKENIZERS_PARALLELISM=(true | false)\n"
     ]
    },
    {
     "name": "stdout",
     "output_type": "stream",
     "text": [
      "\n",
      "Matcher: Coma\n",
      "Runtime: 1.423811912536621 seconds\n",
      "Paramceters: \t{'max_n': 100, 'use_instances': True, 'java_xmx': '10240m'}\n",
      "Performance:\n",
      "\tPrecision:\t50.00%\n",
      "\tRecall:\t\t28.57%\n",
      "\tF1-score:\t36.36%\n"
     ]
    }
   ],
   "source": [
    "import time\n",
    "\n",
    "index = 12\n",
    "country = countries_to_list[index]\n",
    "file_path = f'data/eurocrops/{country}'\n",
    "df_source, df_target, ground_truth = load_only_schema(file_path, country)\n",
    "start_time = time.time()\n",
    "\n",
    "params = ast.literal_eval(results_df.iloc[index][f\"{VAL_di[country]}: parameters\"])\n",
    "\n",
    "\n",
    "\n",
    "matcher = matchers[VAL_di[country]](**params)\n",
    "\n",
    "matches = valentine_match(df_source, df_target, matcher)\n",
    "\n",
    "execution_time = time.time() - start_time \n",
    "\n",
    "\n",
    "metrics = matches.get_metrics(ground_truth)\n",
    "\n",
    "print(f\"\\nMatcher: {matchers[VAL_di[country]].__name__}\\n\\\n",
    "Runtime: {execution_time} seconds\\n\\\n",
    "Paramceters: \\t{params}\\n\\\n",
    "Performance:\\n\\\n",
    "\\tPrecision:\\t{metrics['Precision']*100:.2f}%\\n\\\n",
    "\\tRecall:\\t\\t{metrics['Recall']*100:.2f}%\\n\\\n",
    "\\tF1-score:\\t{metrics['F1Score']*100:.2f}%\")\n",
    "del matcher \n",
    "\n",
    "\n",
    "\n",
    "VAL_f1_scores.append(metrics['F1Score']*100)\n",
    "VAL_runtime.append(execution_time)\n"
   ]
  },
  {
   "cell_type": "markdown",
   "id": "d580cb15",
   "metadata": {},
   "source": [
    "## Eurocrops Dataset : DE-LS"
   ]
  },
  {
   "cell_type": "markdown",
   "id": "6530222a",
   "metadata": {},
   "source": [
    "### Semantic Schema Clustering"
   ]
  },
  {
   "cell_type": "code",
   "execution_count": 43,
   "id": "69fc28af",
   "metadata": {},
   "outputs": [
    {
     "name": "stderr",
     "output_type": "stream",
     "text": [
      "Embeddings-NN Block Building [st5, faiss, cpu]: 100%|██████████| 17/17 [00:13<00:00,  1.29it/s]"
     ]
    },
    {
     "name": "stdout",
     "output_type": "stream",
     "text": [
      "***************************************************************************************************************************\n",
      "                                         Method:  Unique Mapping Clustering\n",
      "***************************************************************************************************************************\n",
      "Method name: Unique Mapping Clustering\n",
      "Parameters: \n",
      "\tSimilarity Threshold: 0.1\n",
      "Runtime: 0.0009 seconds\n",
      "───────────────────────────────────────────────────────────────────────────────────────────────────────────────────────────\n",
      "Performance:\n",
      "\tPrecision:    100.00% \n",
      "\tRecall:        71.43%\n",
      "\tF1-score:      83.33%\n",
      "───────────────────────────────────────────────────────────────────────────────────────────────────────────────────────────\n"
     ]
    },
    {
     "name": "stderr",
     "output_type": "stream",
     "text": [
      "\n"
     ]
    }
   ],
   "source": [
    "country = \"DE_LS\"\n",
    "index = 13\n",
    "dbf_name = f\"data/eurocrops/{country}/{country}_dbf.csv\"\n",
    "file_name = f\"data/eurocrops/{country}/{country}.csv\"\n",
    "gtruth_filename = f\"data/eurocrops/{country}/{country}.json\"\n",
    "params = ast.literal_eval(results_df.iloc[index][f\"{di[country]}: params\"])\n",
    "\n",
    "\n",
    "import json \n",
    "with open(gtruth_filename, 'r') as f:\n",
    "    gtruth_data = json.load(f)\n",
    "\n",
    "d1 = pd.read_csv(dbf_name)\n",
    "d2 = pd.read_csv(file_name)\n",
    "gt = pd.DataFrame(gtruth_data['matches'])\n",
    "to_drop = []\n",
    "for col in (gt.columns):\n",
    "    if 'table' in col:\n",
    "        to_drop.append(col)\n",
    "        \n",
    "gt = gt.drop(columns=to_drop)\n",
    "\n",
    "schema = Schema(dataset_1=d1, dataset_2= d2, ground_truth=gt, matching_type=\"SCHEMA\")\n",
    "\n",
    "\n",
    "from pyjedai.vector_based_blocking import EmbeddingsNNBlockBuilding\n",
    "\n",
    "similarity = params['similarity']\n",
    "\n",
    "emb = EmbeddingsNNBlockBuilding(vectorizer=params['language_model'])\n",
    "_, graph = emb.build_blocks(schema,\n",
    "    top_k=params['top_k'],\n",
    "    with_entity_matching=True)\n",
    "clustering = UniqueMappingClustering()\n",
    "clusters = clustering.process(graph, schema, similarity)\n",
    "ev = clustering.evaluate(clusters)\n",
    "\n",
    "f1_scores.append(ev['F1 %'])\n",
    "runtime.append(emb.execution_time + clustering.execution_time)\n",
    "\n"
   ]
  },
  {
   "cell_type": "markdown",
   "id": "0c922d9c",
   "metadata": {},
   "source": [
    "### Schema Matching (Cupid)"
   ]
  },
  {
   "cell_type": "code",
   "execution_count": 44,
   "id": "a4708fd2",
   "metadata": {},
   "outputs": [
    {
     "name": "stdout",
     "output_type": "stream",
     "text": [
      "\n",
      "Matcher: Cupid\n",
      "Runtime: 11.197669267654419 seconds\n",
      "Paramceters: \t{'th_accept': 0.45, 'parallelism': 1}\n",
      "Performance:\n",
      "\tPrecision:\t75.00%\n",
      "\tRecall:\t\t42.86%\n",
      "\tF1-score:\t54.55%\n"
     ]
    }
   ],
   "source": [
    "import time\n",
    "\n",
    "index = 13\n",
    "country = countries_to_list[index]\n",
    "file_path = f'data/eurocrops/{country}'\n",
    "df_source, df_target, ground_truth = load_only_schema(file_path, country)\n",
    "start_time = time.time()\n",
    "\n",
    "params = ast.literal_eval(results_df.iloc[index][f\"{VAL_di[country]}: parameters\"])\n",
    "if 'parallelism' in params: \n",
    "    params['parallelism'] = 1\n",
    "\n",
    "\n",
    "\n",
    "matcher = matchers[VAL_di[country]](**params)\n",
    "\n",
    "matches = valentine_match(df_source, df_target, matcher)\n",
    "\n",
    "execution_time = time.time() - start_time \n",
    "\n",
    "\n",
    "metrics = matches.get_metrics(ground_truth)\n",
    "\n",
    "print(f\"\\nMatcher: {matchers[VAL_di[country]].__name__}\\n\\\n",
    "Runtime: {execution_time} seconds\\n\\\n",
    "Paramceters: \\t{params}\\n\\\n",
    "Performance:\\n\\\n",
    "\\tPrecision:\\t{metrics['Precision']*100:.2f}%\\n\\\n",
    "\\tRecall:\\t\\t{metrics['Recall']*100:.2f}%\\n\\\n",
    "\\tF1-score:\\t{metrics['F1Score']*100:.2f}%\")\n",
    "del matcher \n",
    "\n",
    "\n",
    "\n",
    "VAL_f1_scores.append(metrics['F1Score']*100)\n",
    "VAL_runtime.append(execution_time)\n"
   ]
  },
  {
   "cell_type": "markdown",
   "id": "8e6dc972",
   "metadata": {},
   "source": [
    "## Eurocrops Dataset : PT"
   ]
  },
  {
   "cell_type": "markdown",
   "id": "ae8f4910",
   "metadata": {},
   "source": [
    "### Syntactic Schema Clustering"
   ]
  },
  {
   "cell_type": "code",
   "execution_count": 45,
   "id": "b87f39bd",
   "metadata": {},
   "outputs": [
    {
     "name": "stderr",
     "output_type": "stream",
     "text": [
      "Top-K Join (cosine): 25it [00:00, 17522.99it/s]           "
     ]
    },
    {
     "name": "stdout",
     "output_type": "stream",
     "text": [
      "***************************************************************************************************************************\n",
      "                                         Method:  Unique Mapping Clustering\n",
      "***************************************************************************************************************************\n",
      "Method name: Unique Mapping Clustering\n",
      "Parameters: \n",
      "\tSimilarity Threshold: 0.1\n",
      "Runtime: 0.0005 seconds\n",
      "───────────────────────────────────────────────────────────────────────────────────────────────────────────────────────────\n",
      "Performance:\n",
      "\tPrecision:    100.00% \n",
      "\tRecall:        71.43%\n",
      "\tF1-score:      83.33%\n",
      "───────────────────────────────────────────────────────────────────────────────────────────────────────────────────────────\n"
     ]
    },
    {
     "name": "stderr",
     "output_type": "stream",
     "text": [
      "\n"
     ]
    }
   ],
   "source": [
    "country = \"PT\"\n",
    "index = 14\n",
    "dbf_name = f\"data/eurocrops/{country}/{country}_dbf.csv\"\n",
    "file_name = f\"data/eurocrops/{country}/{country}.csv\"\n",
    "gtruth_filename = f\"data/eurocrops/{country}/{country}.json\"\n",
    "\n",
    "import json \n",
    "with open(gtruth_filename, 'r') as f:\n",
    "    gtruth_data = json.load(f)\n",
    "\n",
    "\n",
    "d1 = pd.read_csv(dbf_name)\n",
    "d2 = pd.read_csv(file_name)\n",
    "gt = pd.DataFrame(gtruth_data['matches'])\n",
    "\n",
    "schema = Schema(dataset_1=d1, dataset_2= d2, ground_truth=gt, matching_type=\"SCHEMA\")\n",
    "\n",
    "similarity = 0.1\n",
    "params = ast.literal_eval(results_df.iloc[index][f\"{di[country]}: params\"])\n",
    "\n",
    "join = TopKJoin(**params)\n",
    "graph = join.fit(schema)\n",
    "clustering = UniqueMappingClustering()\n",
    "clusters = clustering.process(graph, schema, similarity)\n",
    "ev = clustering.evaluate(clusters)\n",
    "\n",
    "f1_scores.append(ev['F1 %'])\n",
    "runtime.append(join.execution_time + clustering.execution_time)\n",
    "\n"
   ]
  },
  {
   "cell_type": "markdown",
   "id": "b2eae648",
   "metadata": {},
   "source": [
    "### Valentine Coma Matcher"
   ]
  },
  {
   "cell_type": "code",
   "execution_count": 46,
   "id": "e816656b",
   "metadata": {},
   "outputs": [
    {
     "name": "stderr",
     "output_type": "stream",
     "text": [
      "huggingface/tokenizers: The current process just got forked, after parallelism has already been used. Disabling parallelism to avoid deadlocks...\n",
      "To disable this warning, you can either:\n",
      "\t- Avoid using `tokenizers` before the fork if possible\n",
      "\t- Explicitly set the environment variable TOKENIZERS_PARALLELISM=(true | false)\n"
     ]
    },
    {
     "name": "stdout",
     "output_type": "stream",
     "text": [
      "\n",
      "Matcher: Coma\n",
      "Runtime: 1.4339983463287354 seconds\n",
      "Paramceters: \t{'max_n': 100, 'use_instances': True, 'java_xmx': '10240m'}\n",
      "Performance:\n",
      "\tPrecision:\t75.00%\n",
      "\tRecall:\t\t42.86%\n",
      "\tF1-score:\t54.55%\n"
     ]
    }
   ],
   "source": [
    "import time\n",
    "\n",
    "index = 14\n",
    "country = countries_to_list[index]\n",
    "file_path = f'data/eurocrops/{country}'\n",
    "df_source, df_target, ground_truth = load_only_schema(file_path, country)\n",
    "start_time = time.time()\n",
    "\n",
    "params = ast.literal_eval(results_df.iloc[index][f\"{VAL_di[country]}: parameters\"])\n",
    "\n",
    "\n",
    "\n",
    "matcher = matchers[VAL_di[country]](**params)\n",
    "\n",
    "matches = valentine_match(df_source, df_target, matcher)\n",
    "\n",
    "execution_time = time.time() - start_time \n",
    "\n",
    "\n",
    "metrics = matches.get_metrics(ground_truth)\n",
    "\n",
    "print(f\"\\nMatcher: {matchers[VAL_di[country]].__name__}\\n\\\n",
    "Runtime: {execution_time} seconds\\n\\\n",
    "Paramceters: \\t{params}\\n\\\n",
    "Performance:\\n\\\n",
    "\\tPrecision:\\t{metrics['Precision']*100:.2f}%\\n\\\n",
    "\\tRecall:\\t\\t{metrics['Recall']*100:.2f}%\\n\\\n",
    "\\tF1-score:\\t{metrics['F1Score']*100:.2f}%\")\n",
    "\n",
    "del matcher \n",
    "\n",
    "VAL_f1_scores.append(metrics['F1Score']*100)\n",
    "VAL_runtime.append(execution_time)\n"
   ]
  },
  {
   "cell_type": "markdown",
   "id": "90f6a340",
   "metadata": {},
   "source": [
    "## Eurocrops Dataset : LV"
   ]
  },
  {
   "cell_type": "markdown",
   "id": "b9d5378f",
   "metadata": {},
   "source": [
    "### Semantic Schema Clustering"
   ]
  },
  {
   "cell_type": "code",
   "execution_count": 47,
   "id": "8fb68234",
   "metadata": {},
   "outputs": [
    {
     "name": "stderr",
     "output_type": "stream",
     "text": [
      "Embeddings-NN Block Building [st5, faiss, cpu]: 100%|██████████| 21/21 [00:17<00:00,  1.17it/s]"
     ]
    },
    {
     "name": "stdout",
     "output_type": "stream",
     "text": [
      "***************************************************************************************************************************\n",
      "                                         Method:  Unique Mapping Clustering\n",
      "***************************************************************************************************************************\n",
      "Method name: Unique Mapping Clustering\n",
      "Parameters: \n",
      "\tSimilarity Threshold: 0.1\n",
      "Runtime: 0.0009 seconds\n",
      "───────────────────────────────────────────────────────────────────────────────────────────────────────────────────────────\n",
      "Performance:\n",
      "\tPrecision:     80.00% \n",
      "\tRecall:        57.14%\n",
      "\tF1-score:      66.67%\n",
      "───────────────────────────────────────────────────────────────────────────────────────────────────────────────────────────\n"
     ]
    },
    {
     "name": "stderr",
     "output_type": "stream",
     "text": [
      "\n"
     ]
    }
   ],
   "source": [
    "country = \"LV\"\n",
    "index = 15\n",
    "dbf_name = f\"data/eurocrops/{country}/{country}_dbf.csv\"\n",
    "file_name = f\"data/eurocrops/{country}/{country}.csv\"\n",
    "gtruth_filename = f\"data/eurocrops/{country}/{country}.json\"\n",
    "params = ast.literal_eval(results_df.iloc[index][f\"{di[country]}: params\"])\n",
    "\n",
    "\n",
    "import json \n",
    "with open(gtruth_filename, 'r') as f:\n",
    "    gtruth_data = json.load(f)\n",
    "\n",
    "d1 = pd.read_csv(dbf_name)\n",
    "d2 = pd.read_csv(file_name)\n",
    "gt = pd.DataFrame(gtruth_data['matches'])\n",
    "to_drop = []\n",
    "for col in (gt.columns):\n",
    "    if 'table' in col:\n",
    "        to_drop.append(col)\n",
    "        \n",
    "gt = gt.drop(columns=to_drop)\n",
    "\n",
    "schema = Schema(dataset_1=d1, dataset_2= d2, ground_truth=gt, matching_type=\"SCHEMA\")\n",
    "\n",
    "\n",
    "from pyjedai.vector_based_blocking import EmbeddingsNNBlockBuilding\n",
    "\n",
    "similarity = params['similarity']\n",
    "\n",
    "emb = EmbeddingsNNBlockBuilding(vectorizer=params['language_model'])\n",
    "_, graph = emb.build_blocks(schema,\n",
    "    top_k=params['top_k'],\n",
    "    with_entity_matching=True)\n",
    "clustering = UniqueMappingClustering()\n",
    "clusters = clustering.process(graph, schema, similarity)\n",
    "ev = clustering.evaluate(clusters)\n",
    "\n",
    "\n",
    "f1_scores.append(ev['F1 %'])\n",
    "runtime.append(emb.execution_time + clustering.execution_time)\n",
    "\n"
   ]
  },
  {
   "cell_type": "markdown",
   "id": "7ab756ea",
   "metadata": {},
   "source": [
    "### Schema Matching (Coma)"
   ]
  },
  {
   "cell_type": "code",
   "execution_count": 48,
   "id": "b6731d5d",
   "metadata": {},
   "outputs": [
    {
     "name": "stderr",
     "output_type": "stream",
     "text": [
      "huggingface/tokenizers: The current process just got forked, after parallelism has already been used. Disabling parallelism to avoid deadlocks...\n",
      "To disable this warning, you can either:\n",
      "\t- Avoid using `tokenizers` before the fork if possible\n",
      "\t- Explicitly set the environment variable TOKENIZERS_PARALLELISM=(true | false)\n"
     ]
    },
    {
     "name": "stdout",
     "output_type": "stream",
     "text": [
      "\n",
      "Matcher: Coma\n",
      "Runtime: 1.4270613193511963 seconds\n",
      "Paramceters: \t{'max_n': 100, 'use_instances': True, 'java_xmx': '10240m'}\n",
      "Performance:\n",
      "\tPrecision:\t75.00%\n",
      "\tRecall:\t\t42.86%\n",
      "\tF1-score:\t54.55%\n"
     ]
    }
   ],
   "source": [
    "import time\n",
    "\n",
    "index = 15\n",
    "country = countries_to_list[index]\n",
    "file_path = f'data/eurocrops/{country}'\n",
    "df_source, df_target, ground_truth = load_only_schema(file_path, country)\n",
    "start_time = time.time()\n",
    "\n",
    "params = ast.literal_eval(results_df.iloc[index][f\"{VAL_di[country]}: parameters\"])\n",
    "\n",
    "\n",
    "\n",
    "matcher = matchers[VAL_di[country]](**params)\n",
    "\n",
    "matches = valentine_match(df_source, df_target, matcher)\n",
    "\n",
    "execution_time = time.time() - start_time \n",
    "\n",
    "\n",
    "metrics = matches.get_metrics(ground_truth)\n",
    "\n",
    "print(f\"\\nMatcher: {matchers[VAL_di[country]].__name__}\\n\\\n",
    "Runtime: {execution_time} seconds\\n\\\n",
    "Paramceters: \\t{params}\\n\\\n",
    "Performance:\\n\\\n",
    "\\tPrecision:\\t{metrics['Precision']*100:.2f}%\\n\\\n",
    "\\tRecall:\\t\\t{metrics['Recall']*100:.2f}%\\n\\\n",
    "\\tF1-score:\\t{metrics['F1Score']*100:.2f}%\")\n",
    "\n",
    "\n",
    "del matcher \n",
    "\n",
    "VAL_f1_scores.append(metrics['F1Score']*100)\n",
    "VAL_runtime.append(execution_time)\n"
   ]
  },
  {
   "cell_type": "markdown",
   "id": "f65830a7",
   "metadata": {},
   "source": [
    "## Eurocrops Dataset : BE"
   ]
  },
  {
   "cell_type": "markdown",
   "id": "e71ef0a6",
   "metadata": {},
   "source": [
    "### Syntactic Schema Clustering"
   ]
  },
  {
   "cell_type": "code",
   "execution_count": 49,
   "id": "9c68b614",
   "metadata": {},
   "outputs": [
    {
     "name": "stderr",
     "output_type": "stream",
     "text": [
      "/tmp/ipykernel_311223/1003766776.py:12: DtypeWarning: Columns (12) have mixed types. Specify dtype option on import or set low_memory=False.\n",
      "  d1 = pd.read_csv(dbf_name)\n",
      "Top-K Join (cosine): 37it [00:00, 20755.55it/s]           "
     ]
    },
    {
     "name": "stdout",
     "output_type": "stream",
     "text": [
      "***************************************************************************************************************************\n",
      "                                         Method:  Unique Mapping Clustering\n",
      "***************************************************************************************************************************\n",
      "Method name: Unique Mapping Clustering\n",
      "Parameters: \n",
      "\tSimilarity Threshold: 0.4\n",
      "Runtime: 0.0006 seconds\n",
      "───────────────────────────────────────────────────────────────────────────────────────────────────────────────────────────\n",
      "Performance:\n",
      "\tPrecision:    100.00% \n",
      "\tRecall:        42.86%\n",
      "\tF1-score:      60.00%\n",
      "───────────────────────────────────────────────────────────────────────────────────────────────────────────────────────────\n"
     ]
    },
    {
     "name": "stderr",
     "output_type": "stream",
     "text": [
      "\n"
     ]
    }
   ],
   "source": [
    "country = \"BE\"\n",
    "index = 16\n",
    "dbf_name = f\"data/eurocrops/{country}/{country}_dbf.csv\"\n",
    "file_name = f\"data/eurocrops/{country}/{country}.csv\"\n",
    "gtruth_filename = f\"data/eurocrops/{country}/{country}.json\"\n",
    "\n",
    "import json \n",
    "with open(gtruth_filename, 'r') as f:\n",
    "    gtruth_data = json.load(f)\n",
    "\n",
    "\n",
    "d1 = pd.read_csv(dbf_name)\n",
    "d2 = pd.read_csv(file_name)\n",
    "gt = pd.DataFrame(gtruth_data['matches'])\n",
    "\n",
    "schema = Schema(dataset_1=d1, dataset_2= d2, ground_truth=gt, matching_type=\"SCHEMA\")\n",
    "\n",
    "similarity = 0.4\n",
    "params = ast.literal_eval(results_df.iloc[index][f\"{di[country]}: params\"])\n",
    "\n",
    "join = TopKJoin(**params)\n",
    "graph = join.fit(schema)\n",
    "clustering = UniqueMappingClustering()\n",
    "clusters = clustering.process(graph, schema, similarity)\n",
    "ev = clustering.evaluate(clusters)\n",
    "\n",
    "\n",
    "\n",
    "f1_scores.append(ev['F1 %'])\n",
    "runtime.append(join.execution_time + clustering.execution_time)\n"
   ]
  },
  {
   "cell_type": "markdown",
   "id": "fdaaca86",
   "metadata": {},
   "source": [
    "### Schema Mathing (Coma)"
   ]
  },
  {
   "cell_type": "code",
   "execution_count": 50,
   "id": "aadfed25",
   "metadata": {},
   "outputs": [
    {
     "name": "stderr",
     "output_type": "stream",
     "text": [
      "/tmp/ipykernel_311223/120839540.py:10: DtypeWarning: Columns (12) have mixed types. Specify dtype option on import or set low_memory=False.\n",
      "  df_source_tmp = pd.read_csv(source_filename).astype(str)\n",
      "huggingface/tokenizers: The current process just got forked, after parallelism has already been used. Disabling parallelism to avoid deadlocks...\n",
      "To disable this warning, you can either:\n",
      "\t- Avoid using `tokenizers` before the fork if possible\n",
      "\t- Explicitly set the environment variable TOKENIZERS_PARALLELISM=(true | false)\n"
     ]
    },
    {
     "name": "stdout",
     "output_type": "stream",
     "text": [
      "\n",
      "Matcher: Coma\n",
      "Runtime: 1.5860085487365723 seconds\n",
      "Paramceters: \t{'max_n': 100, 'use_instances': True, 'java_xmx': '10240m'}\n",
      "Performance:\n",
      "\tPrecision:\t50.00%\n",
      "\tRecall:\t\t28.57%\n",
      "\tF1-score:\t36.36%\n"
     ]
    }
   ],
   "source": [
    "import time\n",
    "\n",
    "index = 16\n",
    "country = countries_to_list[index]\n",
    "file_path = f'data/eurocrops/{country}'\n",
    "df_source, df_target, ground_truth = load_only_schema(file_path, country)\n",
    "start_time = time.time()\n",
    "\n",
    "params = ast.literal_eval(results_df.iloc[index][f\"{VAL_di[country]}: parameters\"])\n",
    "\n",
    "\n",
    "\n",
    "matcher = matchers[VAL_di[country]](**params)\n",
    "\n",
    "matches = valentine_match(df_source, df_target, matcher)\n",
    "\n",
    "execution_time = time.time() - start_time \n",
    "\n",
    "\n",
    "metrics = matches.get_metrics(ground_truth)\n",
    "\n",
    "print(f\"\\nMatcher: {matchers[VAL_di[country]].__name__}\\n\\\n",
    "Runtime: {execution_time} seconds\\n\\\n",
    "Paramceters: \\t{params}\\n\\\n",
    "Performance:\\n\\\n",
    "\\tPrecision:\\t{metrics['Precision']*100:.2f}%\\n\\\n",
    "\\tRecall:\\t\\t{metrics['Recall']*100:.2f}%\\n\\\n",
    "\\tF1-score:\\t{metrics['F1Score']*100:.2f}%\")\n",
    "\n",
    "del matcher \n",
    "\n",
    "VAL_f1_scores.append(metrics['F1Score']*100)\n",
    "VAL_runtime.append(execution_time)\n"
   ]
  },
  {
   "cell_type": "code",
   "execution_count": null,
   "id": "fa2c5b14",
   "metadata": {},
   "outputs": [
    {
     "data": {
      "image/png": "[encoded data removed]",
      "text/plain": [
       "<Figure size 640x480 with 1 Axes>"
      ]
     },
     "metadata": {},
     "output_type": "display_data"
    }
   ],
   "source": [
    "import matplotlib.pyplot as plt\n",
    "# Example data\n",
    "\n",
    "# Create plot\n",
    "# plt.figure(figsize=(17,17))\n",
    "plt.plot(countries_to_list, VAL_f1_scores, marker=\"o\", label=\"Valentine F1\")\n",
    "plt.plot(countries_to_list, f1_scores, marker=\"s\", label=\"pyJedAI F1\")\n",
    "\n",
    "# Labels and title\n",
    "plt.xlabel(\"Countries\")\n",
    "plt.ylabel(\"F1-Score\")\n",
    "plt.title(\"Valentine - pyJedAI F1 Scores\")\n",
    "plt.legend()\n",
    "plt.grid(True)\n",
    "\n",
    "plt.xticks(rotation=30, ha=\"right\")   # rotate country names\n",
    "\n",
    "\n",
    "# Show plot\n",
    "plt.show()\n",
    "\n"
   ]
  },
  {
   "cell_type": "code",
   "execution_count": 57,
   "id": "f5a41ebf",
   "metadata": {},
   "outputs": [
    {
     "data": {
      "image/png": "[encoded data removed]",
      "text/plain": [
       "<Figure size 640x480 with 1 Axes>"
      ]
     },
     "metadata": {},
     "output_type": "display_data"
    }
   ],
   "source": [
    "import matplotlib.pyplot as plt\n",
    "# Example data\n",
    "\n",
    "# Create plot\n",
    "# plt.figure(figsize=(17,17))\n",
    "plt.plot(countries_to_list, VAL_runtime, marker=\"o\", label=\"Valentine Runtime (sec)\")\n",
    "plt.plot(countries_to_list, runtime, marker=\"s\", label=\"pyJedAI Runtime (sec)\")\n",
    "\n",
    "# Labels and title\n",
    "plt.xlabel(\"Countries\")\n",
    "plt.ylabel(\"Rutime\")\n",
    "plt.title(\"Valentine - pyJedAI Runtime\")\n",
    "plt.legend()\n",
    "plt.grid(True)\n",
    "\n",
    "plt.xticks(rotation=30, ha=\"right\")   # rotate country names\n",
    "\n",
    "\n",
    "# Show plot\n",
    "plt.show()\n",
    "\n"
   ]
  }
 ],
 "metadata": {
  "kernelspec": {
   "display_name": "valentine2",
   "language": "python",
   "name": "python3"
  },
  "language_info": {
   "codemirror_mode": {
    "name": "ipython",
    "version": 3
   },
   "file_extension": ".py",
   "mimetype": "text/x-python",
   "name": "python",
   "nbconvert_exporter": "python",
   "pygments_lexer": "ipython3",
   "version": "3.9.0"
  }
 },
 "nbformat": 4,
 "nbformat_minor": 5
}
