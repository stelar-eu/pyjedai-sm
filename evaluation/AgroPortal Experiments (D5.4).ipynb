{
 "cells": [
  {
   "cell_type": "markdown",
   "id": "28f2547f",
   "metadata": {},
   "source": [
    "\n",
    "\n",
    "<div align=\"center\">\n",
    "<img align=\"center\" src=\"https://stelar-project.eu/wp-content/uploads/2022/08/cropped-stelar-sq.png?raw=true\" alt=\"pyJedAI\" width=\"250\"/>\n",
    "\n",
    "<strong>Deduplication Use Case</strong>\n",
    "</div>\n",
    "<div align=\"center\">\n",
    "<img align=\"center\" src=\"https://github.com/AI-team-UoA/.github/blob/main/AI_LOGO-1.png?raw=true\" alt=\"pyJedAI\" width=\"160\"/>\n",
    "<img align=\"center\" src=\"https://agroknow.com/wp-content/uploads/2020/04/logo_agroknow_sm.png?raw=true\" alt=\"pyJedAI\" width=\"160\"/>\n",
    "<img align=\"center\" src=\"https://github.com/Nikoletos-K/pyJedAI/blob/main/docs/img/pyjedai.logo.drawio.png?raw=true\" alt=\"pyJedAI\" width=\"250\"/>\n",
    "</div>\n",
    "\n",
    "---"
   ]
  },
  {
   "cell_type": "markdown",
   "id": "780ef397",
   "metadata": {},
   "source": [
    "# Initialize data and pyJedAI\n",
    "Execute cell to initialize application and read the data."
   ]
  },
  {
   "cell_type": "code",
   "execution_count": 6,
   "id": "9fab77b0",
   "metadata": {},
   "outputs": [
    {
     "name": "stdout",
     "output_type": "stream",
     "text": [
      "Collecting pyjedai\n",
      "  Using cached pyjedai-0.3.3-py3-none-any.whl.metadata (12 kB)\n",
      "Requirement already satisfied: matplotlib in /home/conda/miniconda3/envs/valentine2/lib/python3.9/site-packages (from pyjedai) (3.9.2)\n",
      "Requirement already satisfied: networkx in /home/conda/miniconda3/envs/valentine2/lib/python3.9/site-packages (from pyjedai) (3.2.1)\n",
      "Requirement already satisfied: nltk in /home/conda/miniconda3/envs/valentine2/lib/python3.9/site-packages (from pyjedai) (3.9.1)\n",
      "Requirement already satisfied: numpy<3.0 in /home/conda/miniconda3/envs/valentine2/lib/python3.9/site-packages (from pyjedai) (1.26.4)\n",
      "Requirement already satisfied: pandas in /home/conda/miniconda3/envs/valentine2/lib/python3.9/site-packages (from pyjedai) (2.1.4)\n",
      "Requirement already satisfied: scipy in /home/conda/miniconda3/envs/valentine2/lib/python3.9/site-packages (from pyjedai) (1.12.0)\n",
      "Requirement already satisfied: seaborn in /home/conda/miniconda3/envs/valentine2/lib/python3.9/site-packages (from pyjedai) (0.13.2)\n",
      "Requirement already satisfied: tqdm in /home/conda/miniconda3/envs/valentine2/lib/python3.9/site-packages (from pyjedai) (4.66.5)\n",
      "Requirement already satisfied: transformers in /home/conda/miniconda3/envs/valentine2/lib/python3.9/site-packages (from pyjedai) (4.45.2)\n",
      "Requirement already satisfied: sentence-transformers in /home/conda/miniconda3/envs/valentine2/lib/python3.9/site-packages (from pyjedai) (3.2.0)\n",
      "Requirement already satisfied: faiss-cpu in /home/conda/miniconda3/envs/valentine2/lib/python3.9/site-packages (from pyjedai) (1.9.0)\n",
      "Requirement already satisfied: py-stringmatching in /home/conda/miniconda3/envs/valentine2/lib/python3.9/site-packages (from pyjedai) (0.4.6)\n",
      "Requirement already satisfied: valentine in /home/conda/miniconda3/envs/valentine2/lib/python3.9/site-packages (from pyjedai) (0.2.1)\n",
      "Requirement already satisfied: ordered-set in /home/conda/miniconda3/envs/valentine2/lib/python3.9/site-packages (from pyjedai) (4.1.0)\n",
      "Requirement already satisfied: shapely in /home/conda/miniconda3/envs/valentine2/lib/python3.9/site-packages (from pyjedai) (2.0.6)\n",
      "Collecting ollama (from pyjedai)\n",
      "  Using cached ollama-0.5.2-py3-none-any.whl.metadata (4.3 kB)\n",
      "Requirement already satisfied: packaging in /home/conda/miniconda3/envs/valentine2/lib/python3.9/site-packages (from faiss-cpu->pyjedai) (24.1)\n",
      "Requirement already satisfied: contourpy>=1.0.1 in /home/conda/miniconda3/envs/valentine2/lib/python3.9/site-packages (from matplotlib->pyjedai) (1.3.0)\n",
      "Requirement already satisfied: cycler>=0.10 in /home/conda/miniconda3/envs/valentine2/lib/python3.9/site-packages (from matplotlib->pyjedai) (0.12.1)\n",
      "Requirement already satisfied: fonttools>=4.22.0 in /home/conda/miniconda3/envs/valentine2/lib/python3.9/site-packages (from matplotlib->pyjedai) (4.54.1)\n",
      "Requirement already satisfied: kiwisolver>=1.3.1 in /home/conda/miniconda3/envs/valentine2/lib/python3.9/site-packages (from matplotlib->pyjedai) (1.4.7)\n",
      "Requirement already satisfied: pillow>=8 in /home/conda/miniconda3/envs/valentine2/lib/python3.9/site-packages (from matplotlib->pyjedai) (10.4.0)\n",
      "Requirement already satisfied: pyparsing>=2.3.1 in /home/conda/miniconda3/envs/valentine2/lib/python3.9/site-packages (from matplotlib->pyjedai) (3.2.0)\n",
      "Requirement already satisfied: python-dateutil>=2.7 in /home/conda/miniconda3/envs/valentine2/lib/python3.9/site-packages (from matplotlib->pyjedai) (2.9.0.post0)\n",
      "Requirement already satisfied: importlib-resources>=3.2.0 in /home/conda/miniconda3/envs/valentine2/lib/python3.9/site-packages (from matplotlib->pyjedai) (6.4.5)\n",
      "Requirement already satisfied: click in /home/conda/miniconda3/envs/valentine2/lib/python3.9/site-packages (from nltk->pyjedai) (8.1.7)\n",
      "Requirement already satisfied: joblib in /home/conda/miniconda3/envs/valentine2/lib/python3.9/site-packages (from nltk->pyjedai) (1.4.2)\n",
      "Requirement already satisfied: regex>=2021.8.3 in /home/conda/miniconda3/envs/valentine2/lib/python3.9/site-packages (from nltk->pyjedai) (2024.9.11)\n",
      "Collecting httpx>=0.27 (from ollama->pyjedai)\n",
      "  Using cached httpx-0.28.1-py3-none-any.whl.metadata (7.1 kB)\n",
      "Collecting pydantic>=2.9 (from ollama->pyjedai)\n",
      "  Using cached pydantic-2.11.7-py3-none-any.whl.metadata (67 kB)\n",
      "Requirement already satisfied: pytz>=2020.1 in /home/conda/miniconda3/envs/valentine2/lib/python3.9/site-packages (from pandas->pyjedai) (2024.2)\n",
      "Requirement already satisfied: tzdata>=2022.1 in /home/conda/miniconda3/envs/valentine2/lib/python3.9/site-packages (from pandas->pyjedai) (2024.2)\n",
      "Requirement already satisfied: torch>=1.11.0 in /home/conda/miniconda3/envs/valentine2/lib/python3.9/site-packages (from sentence-transformers->pyjedai) (2.4.1)\n",
      "Requirement already satisfied: scikit-learn in /home/conda/miniconda3/envs/valentine2/lib/python3.9/site-packages (from sentence-transformers->pyjedai) (1.5.2)\n",
      "Requirement already satisfied: huggingface-hub>=0.20.0 in /home/conda/miniconda3/envs/valentine2/lib/python3.9/site-packages (from sentence-transformers->pyjedai) (0.25.2)\n",
      "Requirement already satisfied: filelock in /home/conda/miniconda3/envs/valentine2/lib/python3.9/site-packages (from transformers->pyjedai) (3.16.1)\n",
      "Requirement already satisfied: pyyaml>=5.1 in /home/conda/miniconda3/envs/valentine2/lib/python3.9/site-packages (from transformers->pyjedai) (6.0.2)\n",
      "Requirement already satisfied: requests in /home/conda/miniconda3/envs/valentine2/lib/python3.9/site-packages (from transformers->pyjedai) (2.32.3)\n",
      "Requirement already satisfied: safetensors>=0.4.1 in /home/conda/miniconda3/envs/valentine2/lib/python3.9/site-packages (from transformers->pyjedai) (0.4.5)\n",
      "Requirement already satisfied: tokenizers<0.21,>=0.20 in /home/conda/miniconda3/envs/valentine2/lib/python3.9/site-packages (from transformers->pyjedai) (0.20.1)\n",
      "Requirement already satisfied: setuptools in /home/conda/miniconda3/envs/valentine2/lib/python3.9/site-packages (from valentine->pyjedai) (75.1.0)\n",
      "Requirement already satisfied: anytree<3.0,>=2.9 in /home/conda/miniconda3/envs/valentine2/lib/python3.9/site-packages (from valentine->pyjedai) (2.12.1)\n",
      "Requirement already satisfied: chardet<6.0.0,>=5.2.0 in /home/conda/miniconda3/envs/valentine2/lib/python3.9/site-packages (from valentine->pyjedai) (5.2.0)\n",
      "Requirement already satisfied: jellyfish<1.1,>=0.9 in /home/conda/miniconda3/envs/valentine2/lib/python3.9/site-packages (from valentine->pyjedai) (1.0.4)\n",
      "Requirement already satisfied: PuLP<3.0,>=2.5 in /home/conda/miniconda3/envs/valentine2/lib/python3.9/site-packages (from valentine->pyjedai) (2.9.0)\n",
      "Requirement already satisfied: pyemd<2.0,>=1.0.0 in /home/conda/miniconda3/envs/valentine2/lib/python3.9/site-packages (from valentine->pyjedai) (1.0.0)\n",
      "Requirement already satisfied: six in /home/conda/miniconda3/envs/valentine2/lib/python3.9/site-packages (from anytree<3.0,>=2.9->valentine->pyjedai) (1.16.0)\n",
      "Collecting anyio (from httpx>=0.27->ollama->pyjedai)\n",
      "  Using cached anyio-4.10.0-py3-none-any.whl.metadata (4.0 kB)\n",
      "Requirement already satisfied: certifi in /home/conda/miniconda3/envs/valentine2/lib/python3.9/site-packages (from httpx>=0.27->ollama->pyjedai) (2024.8.30)\n",
      "Collecting httpcore==1.* (from httpx>=0.27->ollama->pyjedai)\n",
      "  Using cached httpcore-1.0.9-py3-none-any.whl.metadata (21 kB)\n",
      "Requirement already satisfied: idna in /home/conda/miniconda3/envs/valentine2/lib/python3.9/site-packages (from httpx>=0.27->ollama->pyjedai) (3.10)\n",
      "Collecting h11>=0.16 (from httpcore==1.*->httpx>=0.27->ollama->pyjedai)\n",
      "  Using cached h11-0.16.0-py3-none-any.whl.metadata (8.3 kB)\n",
      "Requirement already satisfied: fsspec>=2023.5.0 in /home/conda/miniconda3/envs/valentine2/lib/python3.9/site-packages (from huggingface-hub>=0.20.0->sentence-transformers->pyjedai) (2024.9.0)\n",
      "Requirement already satisfied: typing-extensions>=3.7.4.3 in /home/conda/miniconda3/envs/valentine2/lib/python3.9/site-packages (from huggingface-hub>=0.20.0->sentence-transformers->pyjedai) (4.12.2)\n",
      "Requirement already satisfied: zipp>=3.1.0 in /home/conda/miniconda3/envs/valentine2/lib/python3.9/site-packages (from importlib-resources>=3.2.0->matplotlib->pyjedai) (3.20.2)\n",
      "Collecting annotated-types>=0.6.0 (from pydantic>=2.9->ollama->pyjedai)\n",
      "  Using cached annotated_types-0.7.0-py3-none-any.whl.metadata (15 kB)\n",
      "Collecting pydantic-core==2.33.2 (from pydantic>=2.9->ollama->pyjedai)\n",
      "  Using cached pydantic_core-2.33.2-cp39-cp39-manylinux_2_17_x86_64.manylinux2014_x86_64.whl.metadata (6.8 kB)\n",
      "Collecting typing-inspection>=0.4.0 (from pydantic>=2.9->ollama->pyjedai)\n",
      "  Using cached typing_inspection-0.4.1-py3-none-any.whl.metadata (2.6 kB)\n",
      "Requirement already satisfied: sympy in /home/conda/miniconda3/envs/valentine2/lib/python3.9/site-packages (from torch>=1.11.0->sentence-transformers->pyjedai) (1.13.3)\n",
      "Requirement already satisfied: jinja2 in /home/conda/miniconda3/envs/valentine2/lib/python3.9/site-packages (from torch>=1.11.0->sentence-transformers->pyjedai) (3.1.4)\n",
      "Requirement already satisfied: nvidia-cuda-nvrtc-cu12==12.1.105 in /home/conda/miniconda3/envs/valentine2/lib/python3.9/site-packages (from torch>=1.11.0->sentence-transformers->pyjedai) (12.1.105)\n",
      "Requirement already satisfied: nvidia-cuda-runtime-cu12==12.1.105 in /home/conda/miniconda3/envs/valentine2/lib/python3.9/site-packages (from torch>=1.11.0->sentence-transformers->pyjedai) (12.1.105)\n",
      "Requirement already satisfied: nvidia-cuda-cupti-cu12==12.1.105 in /home/conda/miniconda3/envs/valentine2/lib/python3.9/site-packages (from torch>=1.11.0->sentence-transformers->pyjedai) (12.1.105)\n",
      "Requirement already satisfied: nvidia-cudnn-cu12==9.1.0.70 in /home/conda/miniconda3/envs/valentine2/lib/python3.9/site-packages (from torch>=1.11.0->sentence-transformers->pyjedai) (9.1.0.70)\n",
      "Requirement already satisfied: nvidia-cublas-cu12==12.1.3.1 in /home/conda/miniconda3/envs/valentine2/lib/python3.9/site-packages (from torch>=1.11.0->sentence-transformers->pyjedai) (12.1.3.1)\n",
      "Requirement already satisfied: nvidia-cufft-cu12==11.0.2.54 in /home/conda/miniconda3/envs/valentine2/lib/python3.9/site-packages (from torch>=1.11.0->sentence-transformers->pyjedai) (11.0.2.54)\n",
      "Requirement already satisfied: nvidia-curand-cu12==10.3.2.106 in /home/conda/miniconda3/envs/valentine2/lib/python3.9/site-packages (from torch>=1.11.0->sentence-transformers->pyjedai) (10.3.2.106)\n",
      "Requirement already satisfied: nvidia-cusolver-cu12==11.4.5.107 in /home/conda/miniconda3/envs/valentine2/lib/python3.9/site-packages (from torch>=1.11.0->sentence-transformers->pyjedai) (11.4.5.107)\n",
      "Requirement already satisfied: nvidia-cusparse-cu12==12.1.0.106 in /home/conda/miniconda3/envs/valentine2/lib/python3.9/site-packages (from torch>=1.11.0->sentence-transformers->pyjedai) (12.1.0.106)\n",
      "Requirement already satisfied: nvidia-nccl-cu12==2.20.5 in /home/conda/miniconda3/envs/valentine2/lib/python3.9/site-packages (from torch>=1.11.0->sentence-transformers->pyjedai) (2.20.5)\n",
      "Requirement already satisfied: nvidia-nvtx-cu12==12.1.105 in /home/conda/miniconda3/envs/valentine2/lib/python3.9/site-packages (from torch>=1.11.0->sentence-transformers->pyjedai) (12.1.105)\n",
      "Requirement already satisfied: triton==3.0.0 in /home/conda/miniconda3/envs/valentine2/lib/python3.9/site-packages (from torch>=1.11.0->sentence-transformers->pyjedai) (3.0.0)\n",
      "Requirement already satisfied: nvidia-nvjitlink-cu12 in /home/conda/miniconda3/envs/valentine2/lib/python3.9/site-packages (from nvidia-cusolver-cu12==11.4.5.107->torch>=1.11.0->sentence-transformers->pyjedai) (12.6.77)\n",
      "Requirement already satisfied: charset-normalizer<4,>=2 in /home/conda/miniconda3/envs/valentine2/lib/python3.9/site-packages (from requests->transformers->pyjedai) (3.4.0)\n",
      "Requirement already satisfied: urllib3<3,>=1.21.1 in /home/conda/miniconda3/envs/valentine2/lib/python3.9/site-packages (from requests->transformers->pyjedai) (2.2.3)\n",
      "Requirement already satisfied: threadpoolctl>=3.1.0 in /home/conda/miniconda3/envs/valentine2/lib/python3.9/site-packages (from scikit-learn->sentence-transformers->pyjedai) (3.5.0)\n",
      "Requirement already satisfied: exceptiongroup>=1.0.2 in /home/conda/miniconda3/envs/valentine2/lib/python3.9/site-packages (from anyio->httpx>=0.27->ollama->pyjedai) (1.2.2)\n",
      "Collecting sniffio>=1.1 (from anyio->httpx>=0.27->ollama->pyjedai)\n",
      "  Using cached sniffio-1.3.1-py3-none-any.whl.metadata (3.9 kB)\n",
      "Requirement already satisfied: MarkupSafe>=2.0 in /home/conda/miniconda3/envs/valentine2/lib/python3.9/site-packages (from jinja2->torch>=1.11.0->sentence-transformers->pyjedai) (3.0.1)\n",
      "Requirement already satisfied: mpmath<1.4,>=1.1.0 in /home/conda/miniconda3/envs/valentine2/lib/python3.9/site-packages (from sympy->torch>=1.11.0->sentence-transformers->pyjedai) (1.3.0)\n",
      "Using cached pyjedai-0.3.3-py3-none-any.whl (117 kB)\n",
      "Using cached ollama-0.5.2-py3-none-any.whl (13 kB)\n",
      "Using cached httpx-0.28.1-py3-none-any.whl (73 kB)\n",
      "Using cached httpcore-1.0.9-py3-none-any.whl (78 kB)\n",
      "Using cached pydantic-2.11.7-py3-none-any.whl (444 kB)\n",
      "Using cached pydantic_core-2.33.2-cp39-cp39-manylinux_2_17_x86_64.manylinux2014_x86_64.whl (2.0 MB)\n",
      "Using cached annotated_types-0.7.0-py3-none-any.whl (13 kB)\n",
      "Using cached typing_inspection-0.4.1-py3-none-any.whl (14 kB)\n",
      "Using cached anyio-4.10.0-py3-none-any.whl (107 kB)\n",
      "Using cached h11-0.16.0-py3-none-any.whl (37 kB)\n",
      "Using cached sniffio-1.3.1-py3-none-any.whl (10 kB)\n",
      "Installing collected packages: typing-inspection, sniffio, pydantic-core, h11, annotated-types, pydantic, httpcore, anyio, httpx, ollama, pyjedai\n",
      "Successfully installed annotated-types-0.7.0 anyio-4.10.0 h11-0.16.0 httpcore-1.0.9 httpx-0.28.1 ollama-0.5.2 pydantic-2.11.7 pydantic-core-2.33.2 pyjedai-0.3.3 sniffio-1.3.1 typing-inspection-0.4.1\n",
      "Note: you may need to restart the kernel to use updated packages.\n"
     ]
    }
   ],
   "source": [
    "%pip install pyjedai"
   ]
  },
  {
   "cell_type": "markdown",
   "id": "3c69bd72",
   "metadata": {},
   "source": [
    "# PyJedAI Schema Matching Scores on Agroportal"
   ]
  },
  {
   "cell_type": "code",
   "execution_count": null,
   "id": "d1ecdac1",
   "metadata": {},
   "outputs": [
    {
     "data": {
      "text/html": [
       "<div>\n",
       "<style scoped>\n",
       "    .dataframe tbody tr th:only-of-type {\n",
       "        vertical-align: middle;\n",
       "    }\n",
       "\n",
       "    .dataframe tbody tr th {\n",
       "        vertical-align: top;\n",
       "    }\n",
       "\n",
       "    .dataframe thead th {\n",
       "        text-align: right;\n",
       "    }\n",
       "</style>\n",
       "<table border=\"1\" class=\"dataframe\">\n",
       "  <thead>\n",
       "    <tr style=\"text-align: right;\">\n",
       "      <th></th>\n",
       "      <th>UNI: F1</th>\n",
       "      <th>UNI: params</th>\n",
       "      <th>K: F1</th>\n",
       "      <th>K: params</th>\n",
       "      <th>syntactic-UNI: F1</th>\n",
       "      <th>syntactic-UNI: weigthing_scheme</th>\n",
       "      <th>syntactic-UNI: matching_tokenizer</th>\n",
       "      <th>syntactic-UNI: matching_vectorizer</th>\n",
       "      <th>syntactic-UNI: matching_metric</th>\n",
       "      <th>syntactic-K: F1</th>\n",
       "      <th>syntactic-K: weigthing_scheme</th>\n",
       "      <th>syntactic-K: matching_tokenizer</th>\n",
       "      <th>syntactic-K: matching_vectorizer</th>\n",
       "      <th>syntactic-K: matching_metric</th>\n",
       "      <th>filename</th>\n",
       "      <th>dataset</th>\n",
       "      <th>dataset_type</th>\n",
       "    </tr>\n",
       "  </thead>\n",
       "  <tbody>\n",
       "    <tr>\n",
       "      <th>0</th>\n",
       "      <td>0.0</td>\n",
       "      <td>{'language_model': 'st5', 'similarity': 0.8500...</td>\n",
       "      <td>0.0</td>\n",
       "      <td>{'language_model': 'st5', 'similarity': 0.8500...</td>\n",
       "      <td>58.66861503490826</td>\n",
       "      <td>JS</td>\n",
       "      <td>white_space_tokenizer</td>\n",
       "      <td></td>\n",
       "      <td>edit_distance</td>\n",
       "      <td>58.871030169691785</td>\n",
       "      <td>JS</td>\n",
       "      <td>white_space_tokenizer</td>\n",
       "      <td></td>\n",
       "      <td>edit_distance</td>\n",
       "      <td>agroportal</td>\n",
       "      <td>agroportal</td>\n",
       "      <td>joinable</td>\n",
       "    </tr>\n",
       "    <tr>\n",
       "      <th>1</th>\n",
       "      <td></td>\n",
       "      <td></td>\n",
       "      <td></td>\n",
       "      <td></td>\n",
       "      <td></td>\n",
       "      <td></td>\n",
       "      <td></td>\n",
       "      <td></td>\n",
       "      <td></td>\n",
       "      <td></td>\n",
       "      <td></td>\n",
       "      <td></td>\n",
       "      <td></td>\n",
       "      <td></td>\n",
       "      <td></td>\n",
       "      <td></td>\n",
       "      <td></td>\n",
       "    </tr>\n",
       "  </tbody>\n",
       "</table>\n",
       "</div>"
      ],
      "text/plain": [
       "  UNI: F1                                        UNI: params K: F1  \\\n",
       "0     0.0  {'language_model': 'st5', 'similarity': 0.8500...   0.0   \n",
       "1                                                                    \n",
       "\n",
       "                                           K: params  syntactic-UNI: F1  \\\n",
       "0  {'language_model': 'st5', 'similarity': 0.8500...  58.66861503490826   \n",
       "1                                                                         \n",
       "\n",
       "  syntactic-UNI: weigthing_scheme syntactic-UNI: matching_tokenizer  \\\n",
       "0                              JS             white_space_tokenizer   \n",
       "1                                                                     \n",
       "\n",
       "  syntactic-UNI: matching_vectorizer syntactic-UNI: matching_metric  \\\n",
       "0                                                     edit_distance   \n",
       "1                                                                     \n",
       "\n",
       "      syntactic-K: F1 syntactic-K: weigthing_scheme  \\\n",
       "0  58.871030169691785                            JS   \n",
       "1                                                     \n",
       "\n",
       "  syntactic-K: matching_tokenizer syntactic-K: matching_vectorizer  \\\n",
       "0           white_space_tokenizer                                    \n",
       "1                                                                    \n",
       "\n",
       "  syntactic-K: matching_metric    filename     dataset dataset_type  \n",
       "0                edit_distance  agroportal  agroportal     joinable  \n",
       "1                                                                    "
      ]
     },
     "execution_count": 35,
     "metadata": {},
     "output_type": "execute_result"
    }
   ],
   "source": [
    "import pandas as pd\n",
    "from pyjedai.schema.schema_model import Schema\n",
    "import ast\n",
    "from pyjedai.joins import TopKJoin\n",
    "from pyjedai.clustering import UniqueMappingClustering\n",
    "\n",
    "\n",
    "results_df = pd.read_csv(\"Final Results/Agroportal/agroportal_results_only_schema_with_re_pr.csv\")\n",
    "\n",
    "\n",
    "\n",
    "syntactic_list  = [\"weigthing_scheme\", 'matching_tokenizer', \"matching_vectorizer\", \"matching_metric\"] \n",
    "\n",
    "prefix_columns = ['', 'syntactic-']\n",
    "cluster_list = ['UNI: ', 'K: ']\n",
    "suffix_list = ['F1', 'params']\n",
    "\n",
    "columns = []\n",
    "f1_columns = []\n",
    "for prefix in prefix_columns:\n",
    "    suffixes_list = suffix_list if prefix!='syntactic-' else suffix_list + syntactic_list\n",
    "    for cluster in cluster_list:\n",
    "        for suffix in suffixes_list:\n",
    "            if not (prefix == 'syntactic-' and suffix == 'params'): \n",
    "                columns.append(f'{prefix}{cluster}{suffix}')\n",
    "            if suffix == 'F1':\n",
    "                f1_columns.append(f'{prefix}{cluster}{suffix}')\n",
    "\n",
    "columns += ['filename', 'dataset', 'dataset_type']\n",
    "\n",
    "\n",
    "\n",
    "\n",
    "results_df = results_df[columns]\n",
    "results_df"
   ]
  },
  {
   "cell_type": "code",
   "execution_count": 37,
   "id": "9671ae44",
   "metadata": {},
   "outputs": [
    {
     "name": "stdout",
     "output_type": "stream",
     "text": [
      "Best Agroportal Workflow is syntactic-K\n"
     ]
    }
   ],
   "source": [
    "f1_results = results_df[f1_columns]\n",
    "\n",
    "\n",
    "max_values = f1_results.max(axis=1)\n",
    "max_columns = f1_results.idxmax(axis=1)\n",
    "\n",
    "\n",
    "max_columns = max_columns.tolist()\n",
    "max_columns = [mc.rstrip(': F1') for mc in max_columns]\n",
    "\n",
    "print(f\"Best Agroportal Workflow is {max_columns[0]}\")\n"
   ]
  },
  {
   "cell_type": "markdown",
   "id": "61418b4e",
   "metadata": {},
   "source": [
    "## Syntactic K for Agroportal\n",
    "\n",
    "Initialize Ontology's Data"
   ]
  },
  {
   "cell_type": "code",
   "execution_count": 20,
   "id": "56b3e304",
   "metadata": {},
   "outputs": [
    {
     "name": "stderr",
     "output_type": "stream",
     "text": [
      "/tmp/ipykernel_4292/1960058847.py:1: DtypeWarning: Columns (0) have mixed types. Specify dtype option on import or set low_memory=False.\n",
      "  d1 = pd.read_csv('data/agroportal/taxref-ld.csv', na_filter=True).astype(str)\n",
      "/tmp/ipykernel_4292/1960058847.py:2: DtypeWarning: Columns (0) have mixed types. Specify dtype option on import or set low_memory=False.\n",
      "  d2 = pd.read_csv('data/agroportal/ncbitaxon.csv', na_filter=True).astype(str)\n"
     ]
    }
   ],
   "source": [
    "d1 = pd.read_csv('data/agroportal/taxref-ld.csv', na_filter=True).astype(str)\n",
    "d2 = pd.read_csv('data/agroportal/ncbitaxon.csv', na_filter=True).astype(str)\n",
    "gt = pd.read_csv('data/agroportal/mappings_val.csv', na_filter=True).astype(str)\n",
    "\n",
    "\n",
    "# Initializing Agroportal Data\n",
    "source_col = d1['attributes'].to_list()\n",
    "source_data = [i for i in range(len(source_col))]\n",
    "source_df = pd.DataFrame(columns = source_col, data=[source_data])\n",
    " \n",
    "\n",
    "target_col = d2['attributes'].to_list()\n",
    "target_data = [i for i in range(len(target_col))]\n",
    "target_df = pd.DataFrame(columns = target_col, data=[target_data])\n",
    "\n",
    "schema = Schema(dataset_1=source_df, dataset_2= target_df, ground_truth=gt, matching_type=\"SCHEMA\")\n"
   ]
  },
  {
   "cell_type": "code",
   "execution_count": 21,
   "id": "b36e2b39",
   "metadata": {},
   "outputs": [
    {
     "data": {
      "text/html": [
       "<div>\n",
       "<style scoped>\n",
       "    .dataframe tbody tr th:only-of-type {\n",
       "        vertical-align: middle;\n",
       "    }\n",
       "\n",
       "    .dataframe tbody tr th {\n",
       "        vertical-align: top;\n",
       "    }\n",
       "\n",
       "    .dataframe thead th {\n",
       "        text-align: right;\n",
       "    }\n",
       "</style>\n",
       "<table border=\"1\" class=\"dataframe\">\n",
       "  <thead>\n",
       "    <tr style=\"text-align: right;\">\n",
       "      <th></th>\n",
       "      <th>source_index</th>\n",
       "      <th>target_index</th>\n",
       "    </tr>\n",
       "  </thead>\n",
       "  <tbody>\n",
       "    <tr>\n",
       "      <th>0</th>\n",
       "      <td>140587</td>\n",
       "      <td>0</td>\n",
       "    </tr>\n",
       "    <tr>\n",
       "      <th>1</th>\n",
       "      <td>140587</td>\n",
       "      <td>17729</td>\n",
       "    </tr>\n",
       "    <tr>\n",
       "      <th>2</th>\n",
       "      <td>275401</td>\n",
       "      <td>0</td>\n",
       "    </tr>\n",
       "    <tr>\n",
       "      <th>3</th>\n",
       "      <td>275401</td>\n",
       "      <td>17729</td>\n",
       "    </tr>\n",
       "    <tr>\n",
       "      <th>8</th>\n",
       "      <td>163100</td>\n",
       "      <td>2</td>\n",
       "    </tr>\n",
       "    <tr>\n",
       "      <th>...</th>\n",
       "      <td>...</td>\n",
       "      <td>...</td>\n",
       "    </tr>\n",
       "    <tr>\n",
       "      <th>145299</th>\n",
       "      <td>9589</td>\n",
       "      <td>707246</td>\n",
       "    </tr>\n",
       "    <tr>\n",
       "      <th>145300</th>\n",
       "      <td>8296</td>\n",
       "      <td>707266</td>\n",
       "    </tr>\n",
       "    <tr>\n",
       "      <th>145301</th>\n",
       "      <td>273197</td>\n",
       "      <td>707295</td>\n",
       "    </tr>\n",
       "    <tr>\n",
       "      <th>145302</th>\n",
       "      <td>67004</td>\n",
       "      <td>707307</td>\n",
       "    </tr>\n",
       "    <tr>\n",
       "      <th>145303</th>\n",
       "      <td>55310</td>\n",
       "      <td>707436</td>\n",
       "    </tr>\n",
       "  </tbody>\n",
       "</table>\n",
       "<p>139020 rows × 2 columns</p>\n",
       "</div>"
      ],
      "text/plain": [
       "       source_index target_index\n",
       "0            140587            0\n",
       "1            140587        17729\n",
       "2            275401            0\n",
       "3            275401        17729\n",
       "8            163100            2\n",
       "...             ...          ...\n",
       "145299         9589       707246\n",
       "145300         8296       707266\n",
       "145301       273197       707295\n",
       "145302        67004       707307\n",
       "145303        55310       707436\n",
       "\n",
       "[139020 rows x 2 columns]"
      ]
     },
     "execution_count": 21,
     "metadata": {},
     "output_type": "execute_result"
    }
   ],
   "source": [
    "schema.ground_truth"
   ]
  },
  {
   "cell_type": "markdown",
   "id": "0a025cb8",
   "metadata": {},
   "source": [
    "## Standard Blocking "
   ]
  },
  {
   "cell_type": "code",
   "execution_count": 23,
   "id": "1926bf6a",
   "metadata": {},
   "outputs": [
    {
     "name": "stderr",
     "output_type": "stream",
     "text": [
      "Standard Blocking: 100%|██████████| 1009277/1009277 [00:40<00:00, 25072.02it/s]\n"
     ]
    }
   ],
   "source": [
    "from pyjedai.block_building import StandardBlocking\n",
    "\n",
    "sb = StandardBlocking()\n",
    "blocks = sb.build_blocks(schema)\n"
   ]
  },
  {
   "cell_type": "markdown",
   "id": "95b480f2",
   "metadata": {},
   "source": [
    "## Block Filtering"
   ]
  },
  {
   "cell_type": "code",
   "execution_count": 24,
   "id": "79e53ce4",
   "metadata": {},
   "outputs": [
    {
     "name": "stderr",
     "output_type": "stream",
     "text": [
      "Block Filtering: 100%|██████████| 3/3 [00:16<00:00,  5.49s/it]\n"
     ]
    }
   ],
   "source": [
    "from pyjedai.block_cleaning import BlockFiltering\n",
    "\n",
    "bf = BlockFiltering(ratio=0.5)\n",
    "filtered_blocks = bf.process(blocks, schema)\n"
   ]
  },
  {
   "cell_type": "markdown",
   "id": "521d6586",
   "metadata": {},
   "source": [
    "## Comparison Cleaning"
   ]
  },
  {
   "cell_type": "code",
   "execution_count": 29,
   "id": "2511967b",
   "metadata": {},
   "outputs": [
    {
     "name": "stderr",
     "output_type": "stream",
     "text": [
      "Cardinality Node Pruning: 100%|██████████| 1009277/1009277 [12:28<00:00, 1348.62it/s]\n"
     ]
    }
   ],
   "source": [
    "from pyjedai.comparison_cleaning import CardinalityNodePruning\n",
    "\n",
    "\n",
    "ws = results_df.iloc[0]['syntactic-K: weigthing_scheme']\n",
    "\n",
    "cc = CardinalityNodePruning(weighting_scheme=ws)\n",
    "meta_blocks = cc.process(filtered_blocks, schema)\n"
   ]
  },
  {
   "cell_type": "markdown",
   "id": "aa48bee9",
   "metadata": {},
   "source": [
    "## Entity Matching"
   ]
  },
  {
   "cell_type": "code",
   "execution_count": 30,
   "id": "719cb235",
   "metadata": {},
   "outputs": [
    {
     "data": {
      "text/plain": [
       "syntactic-K: matching_tokenizer     white_space_tokenizer\n",
       "syntactic-K: matching_vectorizer                         \n",
       "syntactic-K: matching_metric                edit_distance\n",
       "Name: 0, dtype: object"
      ]
     },
     "execution_count": 30,
     "metadata": {},
     "output_type": "execute_result"
    }
   ],
   "source": [
    "prefix = 'syntactic-K: '\n",
    "matching_suffix = [\"matching_tokenizer\", \"matching_vectorizer\", \"matching_metric\"]\n",
    "\n",
    "matching_list = [f'{prefix}{suffix}' for suffix in matching_suffix]\n",
    "results_df.iloc[0][matching_list]"
   ]
  },
  {
   "cell_type": "code",
   "execution_count": 31,
   "id": "a50a6627",
   "metadata": {},
   "outputs": [
    {
     "name": "stderr",
     "output_type": "stream",
     "text": [
      "Entity Matching (edit_distance, white_space_tokenizer): 100%|██████████| 723843/723843 [06:34<00:00, 1832.53it/s]\n"
     ]
    }
   ],
   "source": [
    "from pyjedai.matching import EntityMatching\n",
    "\n",
    "em = EntityMatching(metric='edit_distance')\n",
    "graph = em.predict(meta_blocks, schema)"
   ]
  },
  {
   "cell_type": "markdown",
   "id": "3ed91a66",
   "metadata": {},
   "source": [
    "## Clustering"
   ]
  },
  {
   "cell_type": "code",
   "execution_count": 32,
   "id": "04251f4a",
   "metadata": {},
   "outputs": [
    {
     "name": "stdout",
     "output_type": "stream",
     "text": [
      "***************************************************************************************************************************\n",
      "                                         Method:  Kiraly MSM Approximate Clustering\n",
      "***************************************************************************************************************************\n",
      "Method name: Kiraly MSM Approximate Clustering\n",
      "Parameters: \n",
      "\tSimilarity Threshold: 0.1\n",
      "Runtime: 44.9351 seconds\n",
      "───────────────────────────────────────────────────────────────────────────────────────────────────────────────────────────\n",
      "Performance:\n",
      "\tPrecision:     57.51% \n",
      "\tRecall:        56.18%\n",
      "\tF1-score:      56.84%\n",
      "───────────────────────────────────────────────────────────────────────────────────────────────────────────────────────────\n"
     ]
    }
   ],
   "source": [
    "from pyjedai.clustering import KiralyMSMApproximateClustering\n",
    "\n",
    "k_cl = KiralyMSMApproximateClustering()\n",
    "\n",
    "clusters = k_cl.process(graph, schema)\n",
    "_ = k_cl.evaluate(clusters)"
   ]
  }
 ],
 "metadata": {
  "kernelspec": {
   "display_name": "valentine2",
   "language": "python",
   "name": "python3"
  },
  "language_info": {
   "codemirror_mode": {
    "name": "ipython",
    "version": 3
   },
   "file_extension": ".py",
   "mimetype": "text/x-python",
   "name": "python",
   "nbconvert_exporter": "python",
   "pygments_lexer": "ipython3",
   "version": "3.9.0"
  }
 },
 "nbformat": 4,
 "nbformat_minor": 5
}
